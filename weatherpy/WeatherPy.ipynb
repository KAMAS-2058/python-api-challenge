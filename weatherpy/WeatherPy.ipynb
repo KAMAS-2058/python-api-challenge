{
 "cells": [
  {
   "cell_type": "markdown",
   "metadata": {},
   "source": [
    "# WeatherPy\n",
    "\n",
    "---\n",
    "\n",
    "## Starter Code to Generate Random Geographic Coordinates and a List of Cities"
   ]
  },
  {
   "cell_type": "code",
   "execution_count": 3,
   "metadata": {
    "scrolled": true
   },
   "outputs": [],
   "source": [
    "# Dependencies and Setup\n",
    "import matplotlib.pyplot as plt\n",
    "import pandas as pd\n",
    "import numpy as np\n",
    "import requests\n",
    "import time\n",
    "from scipy.stats import linregress\n",
    "#import json\n",
    "\n",
    "# Impor the OpenWeatherMap API key\n",
    "from api_keys import weather_api_key\n",
    "\n",
    "# Import citipy to determine the cities based on latitude and longitude\n",
    "from citipy import citipy"
   ]
  },
  {
   "cell_type": "markdown",
   "metadata": {},
   "source": [
    "### Generate the Cities List by Using the `citipy` Library"
   ]
  },
  {
   "cell_type": "code",
   "execution_count": 4,
   "metadata": {},
   "outputs": [
    {
     "name": "stdout",
     "output_type": "stream",
     "text": [
      "Number of cities in the list: 631\n",
      "['lima', 'castro', 'kapaa', 'port alfred', 'dikson', 'marsh harbour', 'saint-philippe', 'saskylakh', 'serenje', 'umm ruwabah', 'ushuaia', 'taolanaro', 'busselton', 'khoy', 'raudeberg', 'kodiak', 'clyde river', 'tuatapere', 'norman wells', 'toora-khem', 'ilo', 'santa maria', 'tiksi', 'cockburn town', 'bambous virieux', 'maksatikha', 'empalme', 'puerto ayora', 'nizhneyansk', 'cherskiy', 'vila velha', 'zanesville', 'jasper', 'kelvington', 'port elizabeth', 'new norfolk', 'albany', 'hilo', 'adrar', 'hami', 'rikitea', 'carnarvon', 'bredasdorp', 'sikeston', 'mweka', 'avera', 'nikolskoye', 'sentyabrskiy', 'barrow', 'tuktoyaktuk', 'cape town', 'kitami', 'hermanus', 'samusu', 'qaanaaq', 'iralaya', 'atuona', 'cabo san lucas', 'hambantota', 'dingle', 'ocnita', 'ribeira grande', 'oktyabrskiy', 'punta arenas', 'taoudenni', 'flinders', 'karratha', 'maniitsoq', 'umm kaddadah', 'one hundred mile house', 'georgetown', 'belmonte', 'amderma', 'jamestown', 'mataura', 'chokurdakh', 'mali', 'isangel', 'mahebourg', 'antalaha', 'freeport', 'vacaria', 'lebu', 'barentsburg', 'charters towers', 'laguna', 'torbay', 'danane', 'saint anthony', 'pangkalanbuun', 'namibe', 'hithadhoo', 'elliot', 'jacareacanga', 'ilulissat', 'peque', 'kolosovka', 'illoqqortoormiut', 'mareeba', 'tamboril', 'bengkulu', 'pevek', 'nabire', 'shar', 'shelburne', 'leningradskiy', 'te anau', 'rehoboth', 'esperance', 'mtwara', 'padang', 'srednekolymsk', 'ixtapa', 'husavik', 'high level', 'jumla', 'sao felix do xingu', 'san jose', 'sinegorye', 'hun', 'yellowknife', 'souillac', 'oktyabrskoye', 'baruun-urt', 'hobart', 'dudinka', 'east london', 'mrirt', 'attawapiskat', 'xiongzhou', 'george town', 'nicoya', 'thompson', 'shasta lake', 'mys shmidta', 'nemencine', 'butaritari', 'yar-sale', 'fortuna', 'vaitupu', 'vaini', 'viamao', 'vao', 'tooele', 'huarmey', 'zeya', 'bakhmach', 'korla', 'xining', 'kota tinggi', 'zverinogolovskoye', 'geraldton', 'lazaro cardenas', 'jeremie', 'tasiilaq', 'muisne', 'linqiong', 'upernavik', 'olinda', 'daund', 'mersing', 'willemstad', 'verkhniy avzyan', 'mnogovershinnyy', 'kushima', 'yulara', 'sola', 'katherine', 'lolua', 'huallanca', 'abonnema', 'tuy hoa', 'warqla', 'monrovia', 'nanortalik', 'macamic', 'puerto suarez', 'manggar', 'misasi', 'matrei', 'komsomolskiy', 'jalu', 'matay', 'portland', 'skagastrond', 'oskarshamn', 'thasra', 'llata', 'la ronge', 'berekum', 'horasan', 'broken hill', 'minden', 'manta', 'katsuura', 'mitzic', 'benjamin constant', 'coihaique', 'belushya guba', 'hobyo', 'los llanos de aridane', 'mogadishu', 'nizhnyaya omka', 'klaksvik', 'chingirlau', 'bosaso', 'longyearbyen', 'burica', 'nilanga', 'la union', 'viedma', 'canaries', 'sinop', 'cairns', 'satitoa', 'tura', 'egvekinot', 'mount isa', 'provideniya', 'altay', 'aklavik', 'poplar bluff', 'talnakh', 'bluff', 'airai', 'rawson', 'tubruq', 'manokwari', 'chuy', 'quthing', 'storforshei', 'the valley', 'caravelas', 'mombetsu', 'sitka', 'khatanga', 'alofi', 'udachnyy', 'quatre cocos', 'guanica', 'aykhal', 'samarai', 'atherton', 'carson city', 'bargal', 'baherden', 'atar', 'japura', 'kaeo', 'matagami', 'walvis bay', 'port-cartier', 'alice springs', 'ponta delgada', 'mar del plata', 'ostrovnoy', 'kruisfontein', 'saquarema', 'lensk', 'astana', 'constitucion', 'bandar', 'comodoro rivadavia', 'pyay', 'hovd', 'sechura', 'lorengau', 'tomohon', 'taltal', 'saint-pierre', 'sao filipe', 'meulaboh', 'puerto escondido', 'nguru', 'inderborskiy', 'itaituba', 'usinsk', 'ko samui', 'roseburg', 'cidreira', 'bethel', 'gondanglegi', 'el sobrante', 'ketchikan', 'pacific grove', 'port macquarie', 'suleja', 'caiaponia', 'chapais', 'kamensk-uralskiy', 'severo-kurilsk', 'byron bay', 'anadyr', 'birao', 'grand river south east', 'saint george', 'deputatskiy', 'smidovich', 'tsihombe', 'dubovskoye', 'yanam', 'flin flon', 'cadereyta', 'anito', 'lakhipur', 'mehamn', 'osoyoos', 'basco', 'mayumba', 'aksarka', 'velyka bahachka', 'kyzyl-suu', 'beringovskiy', 'bolungarvik', 'vaitape', 'lexington', 'chinchani', 'pareora', 'tunduru', 'avarua', 'hamilton', 'tezu', 'cayenne', 'saint-francois', 'sokolo', 'vila franca do campo', 'kaitangata', 'vestmannaeyjar', 'aktau', 'waingapu', 'mumford', 'mityana', 'san carlos', 'ponta do sol', 'talara', 'salinas', 'san antonio', 'kiverion', 'dalby', 'paradwip', 'ipora', 'isla mujeres', 'broome', 'horta', 'coruripe', 'quime', 'ciamis', 'labuhan', 'kavieng', 'gayeri', 'ipero', 'poum', 'mount gambier', 'malakal', 'ancud', 'kendari', 'kamenka', 'dicabisagan', 'nyurba', 'lavrentiya', 'la primavera', 'san carlos de bariloche', 'zalantun', 'saldanha', 'sao jose da coroa grande', 'saleaula', 'mamallapuram', 'phulabani', 'lulea', 'chone', 'obigarm', 'lompoc', 'atikokan', 'okhotsk', 'kintampo', 'pittsburg', 'phan rang', 'antequera', 'halifax', 'berkak', 'kristiansund', 'santa isabel', 'turkistan', 'kangundo', 'port-gentil', 'shenjiamen', 'nelson bay', 'yamada', 'najran', 'puerto madero', 'searcy', 'pangnirtung', 'banda aceh', 'athabasca', 'eydhafushi', 'lemoore', 'katangli', 'bandarbeyla', 'vawkavysk', 'dakar', 'gazanjyk', 'badou', 'kuusamo', 'la palma', 'itoman', 'kaduqli', 'nuuk', 'lake city', 'suntar', 'sorvag', 'san policarpo', 'bursol', 'ambodifototra', 'dunedin', 'haines city', 'lagoa', 'ambon', 'jilib', 'bathsheba', 'khandyga', 'gobabis', 'grand-santi', 'ambunti', 'kapit', 'susanville', 'ojinaga', 'makakilo city', 'tiarei', 'galgani', 'westport', 'mamou', 'muzquiz', 'narsaq', 'lata', 'santiago de cuenda', 'beyneu', 'colesberg', 'tandil', 'sakakah', 'mahon', 'subtanjalla', 'neiafu', 'kununurra', 'waipawa', 'tazovskiy', 'abnub', 'cabra', 'kholuy', 'sabha', 'richards bay', 'san patricio', 'esna', 'churapcha', 'batagay', 'vitim', 'beloha', 'berbera', 'palembang', 'guerrero negro', 'fairbanks', 'aquiraz', 'hualmay', 'fujin', 'sao joao da barra', 'urumqi', 'morro bay', 'tumannyy', 'salalah', 'ambilobe', 'henties bay', 'villarrica', 'liverpool', 'waddan', 'hailey', 'sioux lookout', 'pozo colorado', 'emba', 'waitati', 'igrim', 'monte cristi', 'kismayo', 'iqaluit', 'changping', 'manzanillo', 'toamasina', 'havre-saint-pierre', 'roebourne', 'mobaye', 'kijang', 'rundu', 'ahipara', 'bantry', 'mosquera', 'college', 'dobson', 'kumo', 'shache', 'barcelos', 'inongo', 'rabat', 'tucupita', 'sal rei', 'coquimbo', 'yumen', 'birjand', 'codrington', 'undory', 'omsukchan', 'port lincoln', 'namatanai', 'tiznit', 'mrakovo', 'kalmunai', 'bongouanou', 'sao desiderio', 'araouane', 'kiunga', 'narrabri', 'malgrat de mar', 'pisco', 'bubaque', 'bolsheustikinskoye', 'nome', 'arman', 'bitung', 'marcona', 'acapulco', 'shingu', 'harper', 'raga', 'middle island', 'dharmabad', 'lincoln', 'redmond', 'porto novo', 'namestovo', 'zhoucun', 'pallasovka', 'bukan', 'tzaneen', 'skala', 'kutum', 'marsaxlokk', 'el balyana', 'grajau', 'smithers', 'puerto cabezas', 'minusinsk', 'la asuncion', 'manavalakurichi', 'wajima', 'kenai', 'chernyshevskiy', 'araceli', 'bolu', 'tuggurt', 'carrickfergus', 'kashira', 'evensk', 'griffith', 'canico', 'sobolevo', 'preeceville', 'anloga', 'davidson', 'mamu kanjan', 'oxford', 'cheuskiny', 'san jeronimo', 'bobonong', 'zambezi', 'misratah', 'clifton', 'port hedland', 'viligili', 'arraial do cabo', 'tawkar', 'berlevag', 'bonavista', 'zhigansk', 'narendranagar', 'cap malheureux', 'weyburn', 'lokosovo', 'rio gallegos', 'victoria', 'hihifo', 'visakhapatnam', 'margate', 'mayo', 'strezhevoy', 'pacifica', 'phan thiet', 'cervo', 'umm bab', 'vilhena', 'rocha', 'huittinen', 'sawtell', 'roald', 'palma', 'ishigaki', 'qovlar', 'luderitz', 'achisay', 'tilichiki', 'marzuq', 'kristianstad', 'payyannur', 'huixtla', 'zhangjiakou', 'nevsehir', 'ucluelet', 'khash', 'nargana', 'carutapera', 'grindavik', 'si racha', 'kulhudhuffushi', 'oga', 'rungata', 'sarh', 'duz', 'kazalinsk', 'izvestkovyy', 'sao jose de ribamar', 'papara', 'talas', 'rong kwang', 'kawalu', 'khonuu']\n"
     ]
    }
   ],
   "source": [
    "# Empty list for holding the latitude and longitude combinations\n",
    "lat_lngs = []\n",
    "\n",
    "# Empty list for holding the cities names\n",
    "cities = []\n",
    "\n",
    "# Range of latitudes and longitudes\n",
    "lat_range = (-90, 90)\n",
    "lng_range = (-180, 180)\n",
    "\n",
    "# Create a set of random lat and lng combinations\n",
    "lats = np.random.uniform(lat_range[0], lat_range[1], size=1500)\n",
    "lngs = np.random.uniform(lng_range[0], lng_range[1], size=1500)\n",
    "lat_lngs = zip(lats, lngs)\n",
    "\n",
    "# Identify nearest city for each lat, lng combination\n",
    "for lat_lng in lat_lngs:\n",
    "    city = citipy.nearest_city(lat_lng[0], lat_lng[1]).city_name\n",
    "    \n",
    "    # If the city is unique, then add it to a our cities list\n",
    "    if city not in cities:\n",
    "        cities.append(city)\n",
    "\n",
    "# Print the city count to confirm sufficient count\n",
    "print(f\"Number of cities in the list: {len(cities)}\")\n",
    "print(cities)\n",
    "\n"
   ]
  },
  {
   "cell_type": "markdown",
   "metadata": {},
   "source": [
    "---"
   ]
  },
  {
   "cell_type": "markdown",
   "metadata": {},
   "source": [
    "## Requirement 1: Create Plots to Showcase the Relationship Between Weather Variables and Latitude\n",
    "\n",
    "### Use the OpenWeatherMap API to retrieve weather data from the cities list generated in the started code"
   ]
  },
  {
   "cell_type": "code",
   "execution_count": 11,
   "metadata": {},
   "outputs": [
    {
     "name": "stdout",
     "output_type": "stream",
     "text": [
      "Processing Record 1 of Set 1 | lima\n",
      "City not found. Skipping...\n",
      "Processing Record 2 of Set 1 | castro\n",
      "City not found. Skipping...\n",
      "Processing Record 3 of Set 1 | kapaa\n",
      "City not found. Skipping...\n",
      "Processing Record 4 of Set 1 | port alfred\n",
      "City not found. Skipping...\n",
      "Processing Record 5 of Set 1 | dikson\n",
      "City not found. Skipping...\n",
      "Processing Record 6 of Set 1 | marsh harbour\n",
      "City not found. Skipping...\n",
      "Processing Record 7 of Set 1 | saint-philippe\n",
      "City not found. Skipping...\n",
      "Processing Record 8 of Set 1 | saskylakh\n",
      "City not found. Skipping...\n",
      "Processing Record 9 of Set 1 | serenje\n",
      "City not found. Skipping...\n",
      "Processing Record 10 of Set 1 | umm ruwabah\n",
      "City not found. Skipping...\n",
      "Processing Record 11 of Set 1 | ushuaia\n",
      "City not found. Skipping...\n",
      "Processing Record 12 of Set 1 | taolanaro\n",
      "City not found. Skipping...\n",
      "Processing Record 13 of Set 1 | busselton\n",
      "City not found. Skipping...\n",
      "Processing Record 14 of Set 1 | khoy\n",
      "City not found. Skipping...\n",
      "Processing Record 15 of Set 1 | raudeberg\n",
      "City not found. Skipping...\n",
      "Processing Record 16 of Set 1 | kodiak\n",
      "City not found. Skipping...\n",
      "Processing Record 17 of Set 1 | clyde river\n",
      "City not found. Skipping...\n",
      "Processing Record 18 of Set 1 | tuatapere\n",
      "City not found. Skipping...\n",
      "Processing Record 19 of Set 1 | norman wells\n",
      "City not found. Skipping...\n",
      "Processing Record 20 of Set 1 | toora-khem\n",
      "City not found. Skipping...\n",
      "Processing Record 21 of Set 1 | ilo\n",
      "City not found. Skipping...\n",
      "Processing Record 22 of Set 1 | santa maria\n",
      "City not found. Skipping...\n",
      "Processing Record 23 of Set 1 | tiksi\n"
     ]
    }
   ],
   "source": [
    "# # Set the API base URL\n",
    "url = \"https://api.openweathermap.org/data/2.5/weather?\"\n",
    "\n",
    "\n",
    "# # Define an empty list to fetch the weather data for each city\n",
    "city_data = []\n",
    "\n",
    "# # Print to logger\n",
    "# print(\"Beginning Data Retrieval     \")\n",
    "# print(\"-----------------------------\")\n",
    "\n",
    "# # Create counters\n",
    "record_count = 1\n",
    "set_count = 1\n",
    "\n",
    "# Loop through all the cities in our list to fetch weather data\n",
    "for i, city in enumerate(cities):\n",
    "        \n",
    "    # Group cities in sets of 50 for logging purposes\n",
    "    if (i % 50 == 0 and i >= 50):\n",
    "        set_count += 1\n",
    "        record_count = 0\n",
    "\n",
    "    # Create endpoint URL with each city\n",
    "    city_url = f\"{url}appid={weather_api_key}&q=\"\n",
    "    \n",
    "    # Log the url, record, and set numbers\n",
    "    print(\"Processing Record %s of Set %s | %s\" % (record_count, set_count, city))\n",
    "\n",
    "    # Add 1 to the record count\n",
    "    record_count += 1\n",
    "\n",
    "    # Run an API request for each of the cities\n",
    "    try:\n",
    "        # Parse the JSON and retrieve data\n",
    "        city_weather = requests.get(city_url + city).json()\n",
    "\n",
    "        # Parse out latitude, longitude, max temp, humidity, cloudiness, wind speed, country, and date\n",
    "        city_lat = city_weather[\"coord\"][\"lat\"]\n",
    "        city_lng = city_weather[\"coord\"][\"lon\"]\n",
    "        city_max_temp = city_weather[\"main\"][\"temp\"]\n",
    "        city_humidity = city_weather[\"main\"][\"humidity\"]\n",
    "        city_clouds = city_weather[\"clouds\"][\"all\"]\n",
    "        city_wind = city_weather[\"wind\"][\"wind_speed\"]\n",
    "        city_country = city_weather[\"sys\"][\"country\"]\n",
    "        city_date = city_weather[\"dt\"]\n",
    "\n",
    "        # Append the City information into city_data list\n",
    "        city_data.append({\"City\": city, \n",
    "                          \"Lat\": city_lat, \n",
    "                          \"Lng\": city_lng, \n",
    "                          \"Max Temp\": city_max_temp,\n",
    "                          \"Humidity\": city_humidity,\n",
    "                          \"Cloudiness\": city_clouds,\n",
    "                          \"Wind Speed\": city_wind,\n",
    "                          \"Country\": city_country,\n",
    "                          \"Date\": city_date})\n",
    "\n",
    "    # If an error is experienced, skip the city\n",
    "    except:\n",
    "        print(\"City not found. Skipping...\")\n",
    "        pass\n",
    "              \n",
    "# Indicate that Data Loading is complete \n",
    "print(\"-----------------------------\")\n",
    "print(\"Data Retrieval Complete      \")\n",
    "print(\"-----------------------------\")"
   ]
  },
  {
   "cell_type": "code",
   "execution_count": null,
   "metadata": {},
   "outputs": [],
   "source": [
    "# Convert the cities weather data into a Pandas DataFrame\n",
    "city_data_df = pd.DataFrame(city_data)\n",
    "\n",
    "# Show Record Count\n",
    "city_data_df.count()"
   ]
  },
  {
   "cell_type": "code",
   "execution_count": null,
   "metadata": {},
   "outputs": [],
   "source": [
    "# Display sample data\n",
    "city_data_df.head()"
   ]
  },
  {
   "cell_type": "code",
   "execution_count": null,
   "metadata": {},
   "outputs": [],
   "source": [
    "# Export the City_Data into a csv\n",
    "city_data_df.to_csv(\"output_data/cities.csv\", index_label=\"City_ID\")"
   ]
  },
  {
   "cell_type": "code",
   "execution_count": null,
   "metadata": {},
   "outputs": [],
   "source": [
    "# Read saved data\n",
    "city_data_df = pd.read_csv(\"output_data/cities.csv\", index_col=\"City_ID\")\n",
    "\n",
    "# Display sample data\n",
    "city_data_df.head()"
   ]
  },
  {
   "cell_type": "markdown",
   "metadata": {},
   "source": [
    "### Create the Scatter Plots Requested\n",
    "\n",
    "#### Latitude Vs. Temperature"
   ]
  },
  {
   "cell_type": "code",
   "execution_count": null,
   "metadata": {
    "tags": []
   },
   "outputs": [],
   "source": [
    "# Build scatter plot for latitude vs. temperature\n",
    "# YOUR CODE HERE\n",
    "\n",
    "# Incorporate the other graph properties\n",
    "# YOUR CODE HERE\n",
    "\n",
    "# Save the figure\n",
    "plt.savefig(\"output_data/Fig1.png\")\n",
    "\n",
    "# Show plot\n",
    "plt.show()"
   ]
  },
  {
   "cell_type": "markdown",
   "metadata": {},
   "source": [
    "#### Latitude Vs. Humidity"
   ]
  },
  {
   "cell_type": "code",
   "execution_count": null,
   "metadata": {},
   "outputs": [],
   "source": [
    "# Build the scatter plots for latitude vs. humidity\n",
    "# YOUR CODE HERE\n",
    "\n",
    "# Incorporate the other graph properties\n",
    "# YOUR CODE HERE\n",
    "\n",
    "# Save the figure\n",
    "plt.savefig(\"output_data/Fig2.png\")\n",
    "\n",
    "# Show plot\n",
    "plt.show()"
   ]
  },
  {
   "cell_type": "markdown",
   "metadata": {},
   "source": [
    "#### Latitude Vs. Cloudiness"
   ]
  },
  {
   "cell_type": "code",
   "execution_count": null,
   "metadata": {},
   "outputs": [],
   "source": [
    "# Build the scatter plots for latitude vs. cloudiness\n",
    "# YOUR CODE HERE\n",
    "\n",
    "# Incorporate the other graph properties\n",
    "# YOUR CODE HERE\n",
    "\n",
    "# Save the figure\n",
    "plt.savefig(\"output_data/Fig3.png\")\n",
    "\n",
    "# Show plot\n",
    "plt.show()"
   ]
  },
  {
   "cell_type": "markdown",
   "metadata": {},
   "source": [
    "#### Latitude vs. Wind Speed Plot"
   ]
  },
  {
   "cell_type": "code",
   "execution_count": null,
   "metadata": {},
   "outputs": [],
   "source": [
    "# Build the scatter plots for latitude vs. wind speed\n",
    "# YOUR CODE HERE\n",
    "\n",
    "# Incorporate the other graph properties\n",
    "# YOUR CODE HERE\n",
    "\n",
    "# Save the figure\n",
    "plt.savefig(\"output_data/Fig4.png\")\n",
    "\n",
    "# Show plot\n",
    "plt.show()"
   ]
  },
  {
   "cell_type": "markdown",
   "metadata": {},
   "source": [
    "---\n",
    "\n",
    "## Requirement 2: Compute Linear Regression for Each Relationship\n"
   ]
  },
  {
   "cell_type": "code",
   "execution_count": null,
   "metadata": {},
   "outputs": [],
   "source": [
    "# Define a function to create Linear Regression plots\n",
    "# YOUR CODE HERE"
   ]
  },
  {
   "cell_type": "code",
   "execution_count": null,
   "metadata": {},
   "outputs": [],
   "source": [
    "# Create a DataFrame with the Northern Hemisphere data (Latitude >= 0)\n",
    "# YOUR CODE HERE\n",
    "\n",
    "# Display sample data\n",
    "northern_hemi_df.head()"
   ]
  },
  {
   "cell_type": "code",
   "execution_count": null,
   "metadata": {},
   "outputs": [],
   "source": [
    "# Create a DataFrame with the Southern Hemisphere data (Latitude < 0)\n",
    "# YOUR CODE HERE\n",
    "\n",
    "# Display sample data\n",
    "southern_hemi_df.head()"
   ]
  },
  {
   "cell_type": "markdown",
   "metadata": {},
   "source": [
    "###  Temperature vs. Latitude Linear Regression Plot"
   ]
  },
  {
   "cell_type": "code",
   "execution_count": null,
   "metadata": {},
   "outputs": [],
   "source": [
    "# Linear regression on Northern Hemisphere\n",
    "# YOUR CODE HERE"
   ]
  },
  {
   "cell_type": "code",
   "execution_count": null,
   "metadata": {},
   "outputs": [],
   "source": [
    "# Linear regression on Southern Hemisphere\n",
    "# YOUR CODE HERE"
   ]
  },
  {
   "cell_type": "markdown",
   "metadata": {},
   "source": [
    "**Discussion about the linear relationship:** YOUR RESPONSE HERE"
   ]
  },
  {
   "cell_type": "markdown",
   "metadata": {},
   "source": [
    "### Humidity vs. Latitude Linear Regression Plot"
   ]
  },
  {
   "cell_type": "code",
   "execution_count": null,
   "metadata": {},
   "outputs": [],
   "source": [
    "# Northern Hemisphere\n",
    "# YOUR CODE HERE"
   ]
  },
  {
   "cell_type": "code",
   "execution_count": null,
   "metadata": {},
   "outputs": [],
   "source": [
    "# Southern Hemisphere\n",
    "# YOUR CODE HERE"
   ]
  },
  {
   "cell_type": "markdown",
   "metadata": {},
   "source": [
    "**Discussion about the linear relationship:** YOUR RESPONSE HERE"
   ]
  },
  {
   "cell_type": "markdown",
   "metadata": {},
   "source": [
    "### Cloudiness vs. Latitude Linear Regression Plot"
   ]
  },
  {
   "cell_type": "code",
   "execution_count": null,
   "metadata": {},
   "outputs": [],
   "source": [
    "# Northern Hemisphere\n",
    "# YOUR CODE HERE"
   ]
  },
  {
   "cell_type": "code",
   "execution_count": null,
   "metadata": {},
   "outputs": [],
   "source": [
    "# Southern Hemisphere\n",
    "# YOUR CODE HERE"
   ]
  },
  {
   "cell_type": "markdown",
   "metadata": {},
   "source": [
    "**Discussion about the linear relationship:** YOUR RESPONSE HERE"
   ]
  },
  {
   "cell_type": "markdown",
   "metadata": {},
   "source": [
    "### Wind Speed vs. Latitude Linear Regression Plot"
   ]
  },
  {
   "cell_type": "code",
   "execution_count": null,
   "metadata": {},
   "outputs": [],
   "source": [
    "# Northern Hemisphere\n",
    "# YOUR CODE HERE"
   ]
  },
  {
   "cell_type": "code",
   "execution_count": null,
   "metadata": {},
   "outputs": [],
   "source": [
    "# Southern Hemisphere\n",
    "# YOUR CODE HERE"
   ]
  },
  {
   "cell_type": "markdown",
   "metadata": {},
   "source": [
    "**Discussion about the linear relationship:** YOUR RESPONSE HERE"
   ]
  },
  {
   "cell_type": "code",
   "execution_count": null,
   "metadata": {},
   "outputs": [],
   "source": []
  }
 ],
 "metadata": {
  "anaconda-cloud": {},
  "kernel_info": {
   "name": "python3"
  },
  "kernelspec": {
   "display_name": "Python 3 (ipykernel)",
   "language": "python",
   "name": "python3"
  },
  "language_info": {
   "codemirror_mode": {
    "name": "ipython",
    "version": 3
   },
   "file_extension": ".py",
   "mimetype": "text/x-python",
   "name": "python",
   "nbconvert_exporter": "python",
   "pygments_lexer": "ipython3",
   "version": "3.7.7"
  },
  "latex_envs": {
   "LaTeX_envs_menu_present": true,
   "autoclose": false,
   "autocomplete": true,
   "bibliofile": "biblio.bib",
   "cite_by": "apalike",
   "current_citInitial": 1,
   "eqLabelWithNumbers": true,
   "eqNumInitial": 1,
   "hotkeys": {
    "equation": "Ctrl-E",
    "itemize": "Ctrl-I"
   },
   "labels_anchors": false,
   "latex_user_defs": false,
   "report_style_numbering": false,
   "user_envs_cfg": false
  },
  "nteract": {
   "version": "0.12.3"
  }
 },
 "nbformat": 4,
 "nbformat_minor": 4
}
