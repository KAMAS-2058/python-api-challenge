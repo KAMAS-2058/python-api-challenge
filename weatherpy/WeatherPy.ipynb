{
 "cells": [
  {
   "cell_type": "markdown",
   "metadata": {},
   "source": [
    "# WeatherPy\n",
    "\n",
    "---\n",
    "\n",
    "## Starter Code to Generate Random Geographic Coordinates and a List of Cities"
   ]
  },
  {
   "cell_type": "code",
   "execution_count": null,
   "metadata": {
    "scrolled": true
   },
   "outputs": [],
   "source": [
    "# Dependencies and Setup\n",
    "import matplotlib.pyplot as plt\n",
    "import pandas as pd\n",
    "import numpy as np\n",
    "import requests\n",
    "import time\n",
    "from scipy.stats import linregress\n",
    "#import json\n",
    "\n",
    "# Impor the OpenWeatherMap API key\n",
    "from api_keys import weather_api_key\n",
    "\n",
    "# Import citipy to determine the cities based on latitude and longitude\n",
    "from citipy import citipy"
   ]
  },
  {
   "cell_type": "markdown",
   "metadata": {},
   "source": [
    "### Generate the Cities List by Using the `citipy` Library"
   ]
  },
  {
   "cell_type": "code",
   "execution_count": null,
   "metadata": {},
   "outputs": [],
   "source": [
    "# Empty list for holding the latitude and longitude combinations\n",
    "lat_lngs = []\n",
    "\n",
    "# Empty list for holding the cities names\n",
    "cities = []\n",
    "\n",
    "# Range of latitudes and longitudes\n",
    "lat_range = (-90, 90)\n",
    "lng_range = (-180, 180)\n",
    "\n",
    "# Create a set of random lat and lng combinations\n",
    "lats = np.random.uniform(lat_range[0], lat_range[1], size=1500)\n",
    "lngs = np.random.uniform(lng_range[0], lng_range[1], size=1500)\n",
    "lat_lngs = zip(lats, lngs)\n",
    "\n",
    "# Identify nearest city for each lat, lng combination\n",
    "for lat_lng in lat_lngs:\n",
    "    city = citipy.nearest_city(lat_lng[0], lat_lng[1]).city_name\n",
    "    \n",
    "    # If the city is unique, then add it to a our cities list\n",
    "    if city not in cities:\n",
    "        cities.append(city)\n",
    "\n",
    "# Print the city count to confirm sufficient count\n",
    "print(f\"Number of cities in the list: {len(cities)}\")\n",
    "print(cities)\n",
    "\n"
   ]
  },
  {
   "cell_type": "markdown",
   "metadata": {},
   "source": [
    "---"
   ]
  },
  {
   "cell_type": "markdown",
   "metadata": {},
   "source": [
    "## Requirement 1: Create Plots to Showcase the Relationship Between Weather Variables and Latitude\n",
    "\n",
    "### Use the OpenWeatherMap API to retrieve weather data from the cities list generated in the started code"
   ]
  },
  {
   "cell_type": "code",
   "execution_count": null,
   "metadata": {},
   "outputs": [],
   "source": [
    "# # Set the API base URL\n",
    "url = \"https://api.openweathermap.org/data/2.5/weather?\"\n",
    "\n",
    "\n",
    "# # Define an empty list to fetch the weather data for each city\n",
    "city_data = []\n",
    "\n",
    "# # Print to logger\n",
    "# print(\"Beginning Data Retrieval     \")\n",
    "# print(\"-----------------------------\")\n",
    "\n",
    "# # Create counters\n",
    "record_count = 1\n",
    "set_count = 1\n",
    "\n",
    "# Loop through all the cities in our list to fetch weather data\n",
    "for i, city in enumerate(cities):\n",
    "        \n",
    "    # Group cities in sets of 50 for logging purposes\n",
    "    if (i % 50 == 0 and i >= 50):\n",
    "        set_count += 1\n",
    "        record_count = 0\n",
    "\n",
    "    # Create endpoint URL with each city\n",
    "    city_url = f\"{url}appid={weather_api_key}&q=\"\n",
    "    \n",
    "    # Log the url, record, and set numbers\n",
    "    print(\"Processing Record %s of Set %s | %s\" % (record_count, set_count, city))\n",
    "\n",
    "    # Add 1 to the record count\n",
    "    record_count += 1\n",
    "\n",
    "    # Run an API request for each of the cities\n",
    "    try:\n",
    "        # Parse the JSON and retrieve data\n",
    "        city_weather = requests.get(city_url + city).json()\n",
    "\n",
    "        # Parse out latitude, longitude, max temp, humidity, cloudiness, wind speed, country, and date\n",
    "        city_lat = city_weather[\"coord\"][\"lat\"]\n",
    "        city_lng = city_weather[\"coord\"][\"lon\"]\n",
    "        city_max_temp = city_weather[\"main\"][\"temp_max\"]\n",
    "        city_humidity = city_weather[\"main\"][\"humidity\"]\n",
    "        city_clouds = city_weather[\"clouds\"][\"all\"]\n",
    "        city_wind = city_weather[\"wind\"][\"speed\"]\n",
    "        city_country = city_weather[\"sys\"][\"country\"]\n",
    "        city_date = city_weather[\"dt\"]\n",
    "\n",
    "        # Append the City information into city_data list\n",
    "        city_data.append({\"City\": city, \n",
    "                          \"Lat\": city_lat, \n",
    "                          \"Lng\": city_lng, \n",
    "                          \"Max Temp\": city_max_temp,\n",
    "                          \"Humidity\": city_humidity,\n",
    "                          \"Cloudiness\": city_clouds,\n",
    "                          \"Wind Speed\": city_wind,\n",
    "                          \"Country\": city_country,\n",
    "                          \"Date\": city_date})\n",
    "\n",
    "    # If an error is experienced, skip the city\n",
    "    except:\n",
    "        print(\"City not found. Skipping...\")\n",
    "        pass\n",
    "              \n",
    "# Indicate that Data Loading is complete \n",
    "print(\"-----------------------------\")\n",
    "print(\"Data Retrieval Complete      \")\n",
    "print(\"-----------------------------\")"
   ]
  },
  {
   "cell_type": "code",
   "execution_count": null,
   "metadata": {},
   "outputs": [],
   "source": [
    "#there were a few cities that the open weather api wasn't able to find, I didn't \n",
    "#try to add them back"
   ]
  },
  {
   "cell_type": "code",
   "execution_count": null,
   "metadata": {},
   "outputs": [],
   "source": [
    "# Convert the cities weather data into a Pandas DataFrame\n",
    "city_data_df = pd.DataFrame(city_data)\n",
    "\n",
    "# Show Record Count\n",
    "city_data_df.count()"
   ]
  },
  {
   "cell_type": "code",
   "execution_count": null,
   "metadata": {},
   "outputs": [],
   "source": [
    "# Display sample data\n",
    "city_data_df.head()"
   ]
  },
  {
   "cell_type": "code",
   "execution_count": null,
   "metadata": {},
   "outputs": [],
   "source": [
    "# Export the City_Data into a csv\n",
    "city_data_df.to_csv(\"output_data/cities.csv\", index_label=\"City_ID\")"
   ]
  },
  {
   "cell_type": "code",
   "execution_count": null,
   "metadata": {},
   "outputs": [],
   "source": [
    "# Read saved data\n",
    "city_data_df = pd.read_csv(\"output_data/cities.csv\", index_col=\"City_ID\")\n",
    "\n",
    "# Display sample data\n",
    "city_data_df.head()"
   ]
  },
  {
   "cell_type": "markdown",
   "metadata": {},
   "source": [
    "### Create the Scatter Plots Requested\n",
    "\n",
    "#### Latitude Vs. Temperature"
   ]
  },
  {
   "cell_type": "code",
   "execution_count": null,
   "metadata": {
    "tags": []
   },
   "outputs": [],
   "source": [
    "lat = city_data_df['Lat']\n",
    "lng = city_data_df['Lng']\n",
    "temp = city_data_df['Max Temp']\n",
    "hum = city_data_df['Humidity']\n",
    "clo = city_data_df['Cloudiness']\n",
    "win = city_data_df['Wind Speed']\n",
    "country = city_data_df['Country']\n",
    "thedate = city_data_df['Date']\n",
    "# Build scatter plot for latitude vs. temperature\n",
    "# Incorporate the other graph properties\n",
    "\n",
    "\n",
    "fig, ax = plt.subplots()\n",
    "ax.scatter(lat,temp,label=\"Max Temperature For City\")\n",
    "ax.set_xlabel(\"Latitude\")\n",
    "ax.set_ylabel(\"Temperature\")\n",
    "\n",
    "\n",
    "\n",
    "# Save the figure\n",
    "plt.savefig(\"output_data/Fig1.png\")\n",
    "\n",
    "# Show plot\n",
    "plt.show()"
   ]
  },
  {
   "cell_type": "markdown",
   "metadata": {},
   "source": [
    "#### Latitude Vs. Humidity"
   ]
  },
  {
   "cell_type": "code",
   "execution_count": null,
   "metadata": {},
   "outputs": [],
   "source": [
    "# Build the scatter plots for latitude vs. humidity\n",
    "# Incorporate the other graph properties\n",
    "fig, ax1 = plt.subplots()\n",
    "\n",
    "ax1.scatter(lat,hum)\n",
    "ax1.set_xlabel('Latitude')\n",
    "ax1.set_ylabel('Humidity')\n",
    "\n",
    "\n",
    "# Save the figure\n",
    "plt.savefig(\"output_data/Fig2.png\")\n",
    "\n",
    "# Show plot\n",
    "plt.show()"
   ]
  },
  {
   "cell_type": "markdown",
   "metadata": {},
   "source": [
    "#### Latitude Vs. Cloudiness"
   ]
  },
  {
   "cell_type": "code",
   "execution_count": null,
   "metadata": {},
   "outputs": [],
   "source": [
    "# Build the scatter plots for latitude vs. cloudiness\n",
    "# Incorporate the other graph properties\n",
    "fig, ax2 = plt.subplots()\n",
    "\n",
    "ax2.scatter(lat,clo)\n",
    "ax2.set_xlabel('Latitude')\n",
    "ax2.set_ylabel('Cloudiness')\n",
    "\n",
    "\n",
    "# Save the figure\n",
    "plt.savefig(\"output_data/Fig3.png\")\n",
    "\n",
    "# Show plot\n",
    "plt.show()"
   ]
  },
  {
   "cell_type": "markdown",
   "metadata": {},
   "source": [
    "#### Latitude vs. Wind Speed Plot"
   ]
  },
  {
   "cell_type": "code",
   "execution_count": null,
   "metadata": {},
   "outputs": [],
   "source": [
    "# Build the scatter plots for latitude vs. wind speed\n",
    "# Incorporate the other graph properties\n",
    "fig, ax3 = plt.subplots()\n",
    "\n",
    "ax3.scatter(lat,win)\n",
    "ax3.set_xlabel(\"Latitude\")\n",
    "ax3.set_ylabel(\"Wind Speed\")\n",
    "\n",
    "\n",
    "\n",
    "# Save the figure\n",
    "plt.savefig(\"output_data/Fig4.png\")\n",
    "\n",
    "# Show plot\n",
    "plt.show()"
   ]
  },
  {
   "cell_type": "markdown",
   "metadata": {},
   "source": [
    "---\n",
    "\n",
    "## Requirement 2: Compute Linear Regression for Each Relationship\n"
   ]
  },
  {
   "cell_type": "code",
   "execution_count": null,
   "metadata": {},
   "outputs": [],
   "source": [
    "# Define a function to create Linear Regression plots\n",
    "# b, m = np.polyfit(x ,y , 1)"
   ]
  },
  {
   "cell_type": "code",
   "execution_count": null,
   "metadata": {},
   "outputs": [],
   "source": [
    "# Create a DataFrame with the Northern Hemisphere data (Latitude >= 0)\n",
    "northern_hemi_df = city_data_df.loc[city_data_df['Lat']>=0]\n",
    "\n",
    "# Display sample data\n",
    "northern_hemi_df.head()"
   ]
  },
  {
   "cell_type": "code",
   "execution_count": null,
   "metadata": {},
   "outputs": [],
   "source": [
    "# Create a DataFrame with the Southern Hemisphere data (Latitude < 0)\n",
    "southern_hemi_df = city_data_df.loc[city_data_df['Lat']<0]\n",
    "\n",
    "# Display sample data\n",
    "southern_hemi_df.head()"
   ]
  },
  {
   "cell_type": "markdown",
   "metadata": {},
   "source": [
    "###  Temperature vs. Latitude Linear Regression Plot"
   ]
  },
  {
   "cell_type": "code",
   "execution_count": null,
   "metadata": {},
   "outputs": [],
   "source": [
    "nlat = northern_hemi_df['Lat']\n",
    "nlng = northern_hemi_df['Lng']\n",
    "ntemp = northern_hemi_df['Max Temp']\n",
    "nhum = northern_hemi_df['Humidity']\n",
    "nclo = northern_hemi_df['Cloudiness']\n",
    "nwin = northern_hemi_df['Wind Speed']\n",
    "ncountry = northern_hemi_df['Country']\n",
    "nthedate = northern_hemi_df['Date']\n",
    "# Linear regression on Northern Hemisphere\n",
    "fig, ax4 = plt.subplots()\n",
    "ax4.scatter(nlat,ntemp)\n",
    "ax4.set_xlabel('Latitude')\n",
    "ax4.set_ylabel('Temperature')\n",
    "m, b = np.polyfit(nlat,ntemp,1)\n",
    "plt.plot(nlat,m*nlat+b, color = 'red')\n",
    "plt.ticklabel_format(style = 'plain')\n",
    "plt.savefig(\"output_data/Fig5.png\")\n",
    "plt.show()\n"
   ]
  },
  {
   "cell_type": "code",
   "execution_count": null,
   "metadata": {},
   "outputs": [],
   "source": [
    "slat = southern_hemi_df['Lat']\n",
    "slng = southern_hemi_df['Lng']\n",
    "stemp = southern_hemi_df['Max Temp']\n",
    "shum = southern_hemi_df['Humidity']\n",
    "sclo = southern_hemi_df['Cloudiness']\n",
    "swin = southern_hemi_df['Wind Speed']\n",
    "scountry = southern_hemi_df['Country']\n",
    "sthedate = southern_hemi_df['Date']\n",
    "# Linear regression on Southern Hemisphere\n",
    "fig, ax5 = plt.subplots()\n",
    "ax5.scatter(slat,stemp)\n",
    "ax5.set_xlabel('Latitude')\n",
    "ax5.set_ylabel('Temperature')\n",
    "m, b = np.polyfit(slat,stemp,1)\n",
    "plt.plot(slat,m*slat+b, color = 'red')\n",
    "plt.ticklabel_format(style = 'plain')\n",
    "plt.savefig(\"output_data/Fig6.png\")\n",
    "plt.show()"
   ]
  },
  {
   "attachments": {},
   "cell_type": "markdown",
   "metadata": {},
   "source": [
    "**Discussion about the linear relationship:** When a city is closer to the equator there is a noticable increase in the maximum temperature that the city experinces for bother hemispheres. Another thing i noticed is that in the nothern hemisphere the cities the max temperature measurment plateaus from the equator to about the 20th latitude. This could be related to the tilt of the earth during a years rotation. Another theory is the sahara is skewing the measurment due to being above the equator and extremly hot."
   ]
  },
  {
   "cell_type": "markdown",
   "metadata": {},
   "source": [
    "### Humidity vs. Latitude Linear Regression Plot"
   ]
  },
  {
   "cell_type": "code",
   "execution_count": null,
   "metadata": {},
   "outputs": [],
   "source": [
    "# Northern Hemisphere\n",
    "fig, ax6 = plt.subplots()\n",
    "ax6.scatter(nlat,nhum)\n",
    "ax6.set_xlabel('Latitude')\n",
    "ax6.set_ylabel('Humidity')\n",
    "m, b = np.polyfit(nlat,nhum,1)\n",
    "plt.plot(nlat,m*nlat+b, color = 'red')\n",
    "plt.ticklabel_format(style = 'plain')\n",
    "plt.savefig(\"output_data/Fig7.png\")\n",
    "plt.show()"
   ]
  },
  {
   "cell_type": "code",
   "execution_count": null,
   "metadata": {},
   "outputs": [],
   "source": [
    "# Southern Hemisphere\n",
    "fig, ax7 = plt.subplots()\n",
    "ax7.scatter(slat,shum)\n",
    "ax7.set_xlabel('Latitude')\n",
    "ax7.set_ylabel('Humidity')\n",
    "m, b = np.polyfit(slat,shum,1)\n",
    "plt.plot(slat,m*slat+b, color = 'red')\n",
    "plt.ticklabel_format(style = 'plain')\n",
    "plt.savefig(\"output_data/Fig8.png\")\n",
    "plt.show()"
   ]
  },
  {
   "attachments": {},
   "cell_type": "markdown",
   "metadata": {},
   "source": [
    "**Discussion about the linear relationship:** There isn't any strong correlation between latitude and humidity in the northern hemisphere. In the southern hemisphere however the closer to the equator the higher the humidity is. Maybe the different seasons in the southern hemisphere lead to this result?"
   ]
  },
  {
   "cell_type": "markdown",
   "metadata": {},
   "source": [
    "### Cloudiness vs. Latitude Linear Regression Plot"
   ]
  },
  {
   "cell_type": "code",
   "execution_count": null,
   "metadata": {},
   "outputs": [],
   "source": [
    "# Northern Hemisphere\n",
    "fig, ax8 = plt.subplots()\n",
    "ax8.scatter(nlat,nclo)\n",
    "ax8.set_xlabel('Latitude')\n",
    "ax8.set_ylabel('Cloudiness')\n",
    "m, b = np.polyfit(nlat,nclo,1)\n",
    "plt.plot(nlat,m*nlat+b, color = 'red')\n",
    "plt.ticklabel_format(style = 'plain')\n",
    "plt.savefig(\"output_data/Fig9.png\")\n",
    "plt.show()"
   ]
  },
  {
   "cell_type": "code",
   "execution_count": null,
   "metadata": {},
   "outputs": [],
   "source": [
    "# Southern Hemisphere\n",
    "fig, ax11 = plt.subplots()\n",
    "ax11.scatter(slat,sclo)\n",
    "ax11.set_xlabel('Latitude')\n",
    "ax11.set_ylabel('Cloudiness')\n",
    "m, b = np.polyfit(slat,sclo,1)\n",
    "plt.plot(slat,m*slat+b, color = 'red')\n",
    "plt.ticklabel_format(style = 'plain')\n",
    "plt.savefig(\"output_data/Fig10.png\")\n",
    "plt.show()"
   ]
  },
  {
   "attachments": {},
   "cell_type": "markdown",
   "metadata": {},
   "source": [
    "**Discussion about the linear relationship:** Cloudiness by Latitude yeilded a similar relationship between the northern and southern hemisphere as humidity did. There is no strong correlation in the north and the southern hemisphere shows that as you get closer to the equator the cities get cloudier."
   ]
  },
  {
   "cell_type": "markdown",
   "metadata": {},
   "source": [
    "### Wind Speed vs. Latitude Linear Regression Plot"
   ]
  },
  {
   "cell_type": "code",
   "execution_count": null,
   "metadata": {},
   "outputs": [],
   "source": [
    "# Northern Hemisphere\n",
    "fig, ax10 = plt.subplots()\n",
    "ax10.scatter(nlat,nwin)\n",
    "ax10.set_xlabel('Latitude')\n",
    "ax10.set_ylabel('Wind Speed')\n",
    "m, b = np.polyfit(nlat,nwin,1)\n",
    "plt.plot(nlat,m*nlat+b, color = 'red')\n",
    "plt.ticklabel_format(style = 'plain')\n",
    "plt.savefig(\"output_data/Fig11.png\")\n",
    "plt.show()"
   ]
  },
  {
   "cell_type": "code",
   "execution_count": null,
   "metadata": {},
   "outputs": [],
   "source": [
    "# Southern Hemisphere\n",
    "fig, ax11 = plt.subplots()\n",
    "ax11.scatter(slat,swin)\n",
    "ax11.set_xlabel('Latitude')\n",
    "ax11.set_ylabel('Wind Speed')\n",
    "m, b = np.polyfit(slat,swin,1)\n",
    "plt.plot(slat,m*slat+b, color = 'red')\n",
    "plt.ticklabel_format(style = 'plain')\n",
    "plt.savefig(\"output_data/Fig12.png\")\n",
    "plt.show()"
   ]
  },
  {
   "attachments": {},
   "cell_type": "markdown",
   "metadata": {},
   "source": [
    "**Discussion about the linear relationship:** In both of the linear regressions there is no strong relationship between latitude and the wind speed the cities are experincing. Cities in the northern hemisphere get slightly more windy as you go north and the reverse is true for the south. The Artic and Antartic may be affecting the wind speeds to get those results."
   ]
  },
  {
   "cell_type": "code",
   "execution_count": null,
   "metadata": {},
   "outputs": [],
   "source": []
  }
 ],
 "metadata": {
  "anaconda-cloud": {},
  "kernel_info": {
   "name": "python3"
  },
  "kernelspec": {
   "display_name": "Python 3 (ipykernel)",
   "language": "python",
   "name": "python3"
  },
  "language_info": {
   "codemirror_mode": {
    "name": "ipython",
    "version": 3
   },
   "file_extension": ".py",
   "mimetype": "text/x-python",
   "name": "python",
   "nbconvert_exporter": "python",
   "pygments_lexer": "ipython3",
   "version": "3.7.7"
  },
  "latex_envs": {
   "LaTeX_envs_menu_present": true,
   "autoclose": false,
   "autocomplete": true,
   "bibliofile": "biblio.bib",
   "cite_by": "apalike",
   "current_citInitial": 1,
   "eqLabelWithNumbers": true,
   "eqNumInitial": 1,
   "hotkeys": {
    "equation": "Ctrl-E",
    "itemize": "Ctrl-I"
   },
   "labels_anchors": false,
   "latex_user_defs": false,
   "report_style_numbering": false,
   "user_envs_cfg": false
  },
  "nteract": {
   "version": "0.12.3"
  }
 },
 "nbformat": 4,
 "nbformat_minor": 4
}
