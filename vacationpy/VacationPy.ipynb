{
 "cells": [
  {
   "cell_type": "markdown",
   "metadata": {},
   "source": [
    "# VacationPy\n",
    "---\n",
    "\n",
    "## Starter Code to Import Libraries and Load the Weather and Coordinates Data"
   ]
  },
  {
   "cell_type": "code",
   "execution_count": 17,
   "metadata": {},
   "outputs": [],
   "source": [
    "# Dependencies and Setup\n",
    "\n",
    "import pandas as pd\n",
    "import hvplot.pandas \n",
    "import requests\n",
    "#had to install these to make a map plot\n",
    "import cartopy.crs as ccrs\n",
    "import geoviews as gv # noqa\n",
    "import pyproj\n",
    "\n",
    "# Import API key\n",
    "from geoapify import geoapify_key\n",
    "import warnings\n",
    "warnings.filterwarnings(\"ignore\")"
   ]
  },
  {
   "cell_type": "code",
   "execution_count": 18,
   "metadata": {},
   "outputs": [
    {
     "data": {
      "text/html": [
       "<div>\n",
       "<style scoped>\n",
       "    .dataframe tbody tr th:only-of-type {\n",
       "        vertical-align: middle;\n",
       "    }\n",
       "\n",
       "    .dataframe tbody tr th {\n",
       "        vertical-align: top;\n",
       "    }\n",
       "\n",
       "    .dataframe thead th {\n",
       "        text-align: right;\n",
       "    }\n",
       "</style>\n",
       "<table border=\"1\" class=\"dataframe\">\n",
       "  <thead>\n",
       "    <tr style=\"text-align: right;\">\n",
       "      <th></th>\n",
       "      <th>City_ID</th>\n",
       "      <th>City</th>\n",
       "      <th>Lat</th>\n",
       "      <th>Lng</th>\n",
       "      <th>Max Temp</th>\n",
       "      <th>Humidity</th>\n",
       "      <th>Cloudiness</th>\n",
       "      <th>Wind Speed</th>\n",
       "      <th>Country</th>\n",
       "      <th>Date</th>\n",
       "    </tr>\n",
       "  </thead>\n",
       "  <tbody>\n",
       "    <tr>\n",
       "      <th>0</th>\n",
       "      <td>0</td>\n",
       "      <td>mount gambier</td>\n",
       "      <td>-37.8333</td>\n",
       "      <td>140.7667</td>\n",
       "      <td>286.56</td>\n",
       "      <td>64</td>\n",
       "      <td>100</td>\n",
       "      <td>4.84</td>\n",
       "      <td>AU</td>\n",
       "      <td>1682638779</td>\n",
       "    </tr>\n",
       "    <tr>\n",
       "      <th>1</th>\n",
       "      <td>1</td>\n",
       "      <td>uhlove</td>\n",
       "      <td>44.8215</td>\n",
       "      <td>33.6045</td>\n",
       "      <td>284.27</td>\n",
       "      <td>93</td>\n",
       "      <td>100</td>\n",
       "      <td>5.53</td>\n",
       "      <td>UA</td>\n",
       "      <td>1682638780</td>\n",
       "    </tr>\n",
       "    <tr>\n",
       "      <th>2</th>\n",
       "      <td>2</td>\n",
       "      <td>hofn</td>\n",
       "      <td>64.2539</td>\n",
       "      <td>-15.2082</td>\n",
       "      <td>272.96</td>\n",
       "      <td>55</td>\n",
       "      <td>83</td>\n",
       "      <td>3.43</td>\n",
       "      <td>IS</td>\n",
       "      <td>1682638783</td>\n",
       "    </tr>\n",
       "    <tr>\n",
       "      <th>3</th>\n",
       "      <td>3</td>\n",
       "      <td>port hardy</td>\n",
       "      <td>50.6996</td>\n",
       "      <td>-127.4199</td>\n",
       "      <td>287.25</td>\n",
       "      <td>58</td>\n",
       "      <td>40</td>\n",
       "      <td>1.54</td>\n",
       "      <td>CA</td>\n",
       "      <td>1682638635</td>\n",
       "    </tr>\n",
       "    <tr>\n",
       "      <th>4</th>\n",
       "      <td>4</td>\n",
       "      <td>cape town</td>\n",
       "      <td>-33.9258</td>\n",
       "      <td>18.4232</td>\n",
       "      <td>290.03</td>\n",
       "      <td>88</td>\n",
       "      <td>2</td>\n",
       "      <td>0.89</td>\n",
       "      <td>ZA</td>\n",
       "      <td>1682638147</td>\n",
       "    </tr>\n",
       "  </tbody>\n",
       "</table>\n",
       "</div>"
      ],
      "text/plain": [
       "   City_ID           City      Lat       Lng  Max Temp  Humidity  Cloudiness  \\\n",
       "0        0  mount gambier -37.8333  140.7667    286.56        64         100   \n",
       "1        1         uhlove  44.8215   33.6045    284.27        93         100   \n",
       "2        2           hofn  64.2539  -15.2082    272.96        55          83   \n",
       "3        3     port hardy  50.6996 -127.4199    287.25        58          40   \n",
       "4        4      cape town -33.9258   18.4232    290.03        88           2   \n",
       "\n",
       "   Wind Speed Country        Date  \n",
       "0        4.84      AU  1682638779  \n",
       "1        5.53      UA  1682638780  \n",
       "2        3.43      IS  1682638783  \n",
       "3        1.54      CA  1682638635  \n",
       "4        0.89      ZA  1682638147  "
      ]
     },
     "execution_count": 18,
     "metadata": {},
     "output_type": "execute_result"
    }
   ],
   "source": [
    "# Load the CSV file created in Part 1 into a Pandas DataFrame\n",
    "city_data_df = pd.read_csv(\"../weatherpy/output_data/cities.csv\")\n",
    "\n",
    "# Display sample data\n",
    "city_data_df.head()"
   ]
  },
  {
   "cell_type": "markdown",
   "metadata": {},
   "source": [
    "---\n",
    "\n",
    "### Step 1: Create a map that displays a point for every city in the `city_data_df` DataFrame. The size of the point should be the humidity in each city."
   ]
  },
  {
   "cell_type": "code",
   "execution_count": 19,
   "metadata": {},
   "outputs": [
    {
     "data": {},
     "metadata": {},
     "output_type": "display_data"
    },
    {
     "data": {
      "application/vnd.holoviews_exec.v0+json": "",
      "text/html": [
       "<div id='1405'>\n",
       "  <div class=\"bk-root\" id=\"617c33f6-ac2e-4d99-a282-cb689fd80825\" data-root-id=\"1405\"></div>\n",
       "</div>\n",
       "<script type=\"application/javascript\">(function(root) {\n",
       "  function embed_document(root) {\n",
       "    var docs_json = {\"663391c0-5fce-4239-a540-675aaeb29eb7\":{\"defs\":[{\"extends\":null,\"module\":null,\"name\":\"ReactiveHTML1\",\"overrides\":[],\"properties\":[]},{\"extends\":null,\"module\":null,\"name\":\"FlexBox1\",\"overrides\":[],\"properties\":[{\"default\":\"flex-start\",\"kind\":null,\"name\":\"align_content\"},{\"default\":\"flex-start\",\"kind\":null,\"name\":\"align_items\"},{\"default\":\"row\",\"kind\":null,\"name\":\"flex_direction\"},{\"default\":\"wrap\",\"kind\":null,\"name\":\"flex_wrap\"},{\"default\":\"flex-start\",\"kind\":null,\"name\":\"justify_content\"}]},{\"extends\":null,\"module\":null,\"name\":\"GridStack1\",\"overrides\":[],\"properties\":[{\"default\":\"warn\",\"kind\":null,\"name\":\"mode\"},{\"default\":null,\"kind\":null,\"name\":\"ncols\"},{\"default\":null,\"kind\":null,\"name\":\"nrows\"},{\"default\":true,\"kind\":null,\"name\":\"allow_resize\"},{\"default\":true,\"kind\":null,\"name\":\"allow_drag\"},{\"default\":[],\"kind\":null,\"name\":\"state\"}]},{\"extends\":null,\"module\":null,\"name\":\"click1\",\"overrides\":[],\"properties\":[{\"default\":\"\",\"kind\":null,\"name\":\"terminal_output\"},{\"default\":\"\",\"kind\":null,\"name\":\"debug_name\"},{\"default\":0,\"kind\":null,\"name\":\"clears\"}]},{\"extends\":null,\"module\":null,\"name\":\"NotificationAreaBase1\",\"overrides\":[],\"properties\":[{\"default\":\"bottom-right\",\"kind\":null,\"name\":\"position\"},{\"default\":0,\"kind\":null,\"name\":\"_clear\"}]},{\"extends\":null,\"module\":null,\"name\":\"NotificationArea1\",\"overrides\":[],\"properties\":[{\"default\":[],\"kind\":null,\"name\":\"notifications\"},{\"default\":\"bottom-right\",\"kind\":null,\"name\":\"position\"},{\"default\":0,\"kind\":null,\"name\":\"_clear\"},{\"default\":[{\"background\":\"#ffc107\",\"icon\":{\"className\":\"fas fa-exclamation-triangle\",\"color\":\"white\",\"tagName\":\"i\"},\"type\":\"warning\"},{\"background\":\"#007bff\",\"icon\":{\"className\":\"fas fa-info-circle\",\"color\":\"white\",\"tagName\":\"i\"},\"type\":\"info\"}],\"kind\":null,\"name\":\"types\"}]},{\"extends\":null,\"module\":null,\"name\":\"Notification\",\"overrides\":[],\"properties\":[{\"default\":null,\"kind\":null,\"name\":\"background\"},{\"default\":3000,\"kind\":null,\"name\":\"duration\"},{\"default\":null,\"kind\":null,\"name\":\"icon\"},{\"default\":\"\",\"kind\":null,\"name\":\"message\"},{\"default\":null,\"kind\":null,\"name\":\"notification_type\"},{\"default\":false,\"kind\":null,\"name\":\"_destroyed\"}]},{\"extends\":null,\"module\":null,\"name\":\"TemplateActions1\",\"overrides\":[],\"properties\":[{\"default\":0,\"kind\":null,\"name\":\"open_modal\"},{\"default\":0,\"kind\":null,\"name\":\"close_modal\"}]},{\"extends\":null,\"module\":null,\"name\":\"MaterialTemplateActions1\",\"overrides\":[],\"properties\":[{\"default\":0,\"kind\":null,\"name\":\"open_modal\"},{\"default\":0,\"kind\":null,\"name\":\"close_modal\"}]}],\"roots\":{\"references\":[{\"attributes\":{\"coordinates\":null,\"group\":null,\"level\":\"glyph\",\"tile_source\":{\"id\":\"1475\"}},\"id\":\"1478\",\"type\":\"TileRenderer\"},{\"attributes\":{\"click_policy\":\"mute\",\"coordinates\":null,\"group\":null,\"items\":[{\"id\":\"1498\"}],\"location\":[0,0]},\"id\":\"1497\",\"type\":\"Legend\"},{\"attributes\":{\"callback\":null,\"formatters\":{\"$x\":{\"id\":\"1499\"},\"$y\":{\"id\":\"1500\"}},\"renderers\":[{\"id\":\"1489\"}],\"tags\":[\"hv_created\"],\"tooltips\":[[\"Lng\",\"$x{custom}\"],[\"Lat\",\"$y{custom}\"],[\"City\",\"@{City}\"],[\"Humidity\",\"@{Humidity}\"]]},\"id\":\"1414\",\"type\":\"HoverTool\"},{\"attributes\":{\"below\":[{\"id\":\"1426\"}],\"center\":[{\"id\":\"1429\"},{\"id\":\"1433\"}],\"frame_height\":600,\"frame_width\":800,\"height\":null,\"left\":[{\"id\":\"1430\"}],\"margin\":[5,5,5,5],\"match_aspect\":true,\"min_border_bottom\":10,\"min_border_left\":10,\"min_border_right\":10,\"min_border_top\":10,\"renderers\":[{\"id\":\"1478\"},{\"id\":\"1489\"}],\"right\":[{\"id\":\"1497\"}],\"sizing_mode\":\"fixed\",\"title\":{\"id\":\"1418\"},\"toolbar\":{\"id\":\"1440\"},\"width\":null,\"x_range\":{\"id\":\"1410\"},\"x_scale\":{\"id\":\"1422\"},\"y_range\":{\"id\":\"1411\"},\"y_scale\":{\"id\":\"1424\"}},\"id\":\"1417\",\"subtype\":\"Figure\",\"type\":\"Plot\"},{\"attributes\":{\"end\":20557732.283708647,\"min_interval\":5,\"reset_end\":20557732.283708647,\"reset_start\":-13394089.244513301,\"start\":-13394089.244513301,\"tags\":[[[\"Lat\",\"Lat\",null]]]},\"id\":\"1411\",\"type\":\"Range1d\"},{\"attributes\":{},\"id\":\"1494\",\"type\":\"UnionRenderers\"},{\"attributes\":{\"coordinates\":null,\"data_source\":{\"id\":\"1481\"},\"glyph\":{\"id\":\"1484\"},\"group\":null,\"hover_glyph\":{\"id\":\"1487\"},\"muted_glyph\":{\"id\":\"1488\"},\"nonselection_glyph\":{\"id\":\"1485\"},\"selection_glyph\":{\"id\":\"1486\"},\"view\":{\"id\":\"1490\"}},\"id\":\"1489\",\"type\":\"GlyphRenderer\"},{\"attributes\":{\"fill_color\":{\"field\":\"color\",\"transform\":{\"id\":\"1480\"}},\"hatch_color\":{\"field\":\"color\",\"transform\":{\"id\":\"1480\"}},\"line_color\":{\"field\":\"color\",\"transform\":{\"id\":\"1480\"}},\"size\":{\"field\":\"size\"},\"x\":{\"field\":\"Lng\"},\"y\":{\"field\":\"Lat\"}},\"id\":\"1486\",\"type\":\"Scatter\"},{\"attributes\":{},\"id\":\"1455\",\"type\":\"AllLabels\"},{\"attributes\":{\"active_drag\":{\"id\":\"1435\"},\"active_scroll\":{\"id\":\"1436\"},\"tools\":[{\"id\":\"1414\"},{\"id\":\"1434\"},{\"id\":\"1435\"},{\"id\":\"1436\"},{\"id\":\"1437\"},{\"id\":\"1438\"}]},\"id\":\"1440\",\"type\":\"Toolbar\"},{\"attributes\":{},\"id\":\"1462\",\"type\":\"AllLabels\"},{\"attributes\":{\"bottom_units\":\"screen\",\"coordinates\":null,\"fill_alpha\":0.5,\"fill_color\":\"lightgrey\",\"group\":null,\"left_units\":\"screen\",\"level\":\"overlay\",\"line_alpha\":1.0,\"line_color\":\"black\",\"line_dash\":[4,4],\"line_width\":2,\"right_units\":\"screen\",\"syncable\":false,\"top_units\":\"screen\"},\"id\":\"1439\",\"type\":\"BoxAnnotation\"},{\"attributes\":{},\"id\":\"1434\",\"type\":\"SaveTool\"},{\"attributes\":{},\"id\":\"1435\",\"type\":\"PanTool\"},{\"attributes\":{},\"id\":\"1438\",\"type\":\"ResetTool\"},{\"attributes\":{\"dimension\":\"lat\"},\"id\":\"1452\",\"type\":\"MercatorTickFormatter\"},{\"attributes\":{\"source\":{\"id\":\"1481\"}},\"id\":\"1490\",\"type\":\"CDSView\"},{\"attributes\":{\"zoom_on_axis\":false},\"id\":\"1436\",\"type\":\"WheelZoomTool\"},{\"attributes\":{\"fill_color\":{\"field\":\"color\",\"transform\":{\"id\":\"1480\"}},\"hatch_color\":{\"field\":\"color\",\"transform\":{\"id\":\"1480\"}},\"line_color\":{\"field\":\"color\",\"transform\":{\"id\":\"1480\"}},\"size\":{\"field\":\"size\"},\"x\":{\"field\":\"Lng\"},\"y\":{\"field\":\"Lat\"}},\"id\":\"1487\",\"type\":\"Scatter\"},{\"attributes\":{\"code\":\"\\n        var projections = Bokeh.require(\\\"core/util/projections\\\");\\n        var x = special_vars.data_x\\n        var y = special_vars.data_y\\n        var coords = projections.wgs84_mercator.invert(x, y)\\n        return \\\"\\\" + (coords[1]).toFixed(4)\\n    \"},\"id\":\"1500\",\"type\":\"CustomJSHover\"},{\"attributes\":{\"match_aspect\":true,\"overlay\":{\"id\":\"1439\"}},\"id\":\"1437\",\"type\":\"BoxZoomTool\"},{\"attributes\":{\"code\":\"\\n        var projections = Bokeh.require(\\\"core/util/projections\\\");\\n        var x = special_vars.data_x\\n        var y = special_vars.data_y\\n        var coords = projections.wgs84_mercator.invert(x, y)\\n        return \\\"\\\" + (coords[0]).toFixed(4)\\n    \"},\"id\":\"1499\",\"type\":\"CustomJSHover\"},{\"attributes\":{\"end\":22813588.388498656,\"min_interval\":5,\"reset_end\":22813588.388498656,\"reset_start\":-22455506.98246394,\"start\":-22455506.98246394,\"tags\":[[[\"Lng\",\"Lng\",null]]]},\"id\":\"1410\",\"type\":\"Range1d\"},{\"attributes\":{},\"id\":\"1482\",\"type\":\"Selection\"},{\"attributes\":{\"factors\":[\"mount gambier\",\"uhlove\",\"hofn\",\"port hardy\",\"cape town\",\"pisco\",\"rikitea\",\"goure\",\"sur\",\"cherskiy\",\"albany\",\"victoria\",\"juneau\",\"seoul\",\"mataura\",\"valdivia\",\"karpogory\",\"ilulissat\",\"saint-pierre\",\"northam\",\"lavrentiya\",\"aklavik\",\"katsuura\",\"ancud\",\"innisfail\",\"quatre cocos\",\"port alfred\",\"nabire\",\"east london\",\"mitsamiouli\",\"ous\",\"lompoc\",\"ponta do sol\",\"kavaratti\",\"san andres\",\"manado\",\"ushuaia\",\"punta arenas\",\"bambous virieux\",\"ardahan\",\"dehloran\",\"georgetown\",\"hillsborough\",\"boksitogorsk\",\"nikolskoye\",\"saurimo\",\"busselton\",\"astaneh-ye ashrafiyeh\",\"kannangad\",\"sitka\",\"upernavik\",\"butaritari\",\"saint-philippe\",\"xuddur\",\"vaini\",\"mahajanga\",\"gazojak\",\"tarragona\",\"arraial do cabo\",\"lebu\",\"clyde river\",\"truth or consequences\",\"severo-kurilsk\",\"yellowknife\",\"port elizabeth\",\"ribeira grande\",\"lazaro cardenas\",\"north bend\",\"new norfolk\",\"mulege\",\"bredasdorp\",\"chapada dos guimaraes\",\"talnakh\",\"mount isa\",\"qaanaaq\",\"airai\",\"narsaq\",\"upata\",\"kalmunai\",\"avarua\",\"bluff\",\"cabedelo\",\"ban nahin\",\"hay river\",\"hami\",\"vila franca do campo\",\"chokurdakh\",\"saint-augustin\",\"fort nelson\",\"revelstoke\",\"dikson\",\"kaitangata\",\"coihaique\",\"tuktoyaktuk\",\"visnes\",\"fougeres\",\"cockburn town\",\"tasiilaq\",\"hobart\",\"cidreira\",\"maragogi\",\"chuy\",\"soyo\",\"kurdzhinovo\",\"thompson\",\"vostok\",\"bethel\",\"broome\",\"mahebourg\",\"kodiak\",\"gouyave\",\"barranca\",\"vanderhoof\",\"hasaki\",\"jamestown\",\"touros\",\"hermanus\",\"naron\",\"surt\",\"atuona\",\"novyy urengoy\",\"kathu\",\"samana\",\"comodoro rivadavia\",\"natal\",\"cabo san lucas\",\"asau\",\"yar-sale\",\"hilo\",\"husavik\",\"barrow\",\"poya\",\"black river\",\"scalea\",\"okato\",\"kapaa\",\"urucara\",\"izumo\",\"hua hin\",\"zeya\",\"bima\",\"newport\",\"coquimbo\",\"hirara\",\"datong\",\"khatanga\",\"karachi\",\"dali\",\"talbahat\",\"bambui\",\"provideniya\",\"bambari\",\"chabahar\",\"agasegyhaza\",\"hue\",\"verkhnevilyuysk\",\"carnarvon\",\"ocampo\",\"castro\",\"kon tum\",\"jumla\",\"coahuayana\",\"vasterhaninge\",\"lata\",\"marsh harbour\",\"belmonte\",\"cape coast\",\"raiganj\",\"risch\",\"dalvik\",\"hambantota\",\"abu samrah\",\"bathsheba\",\"novoagansk\",\"solnechnyy\",\"bengkulu\",\"borova\",\"souillac\",\"pundaguitan\",\"torbay\",\"senneterre\",\"west wendover\",\"miandrivazo\",\"wangaratta\",\"paita\",\"rawson\",\"rossosh\",\"cravo norte\",\"saint george\",\"naze\",\"xining\",\"abbeville\",\"healdsburg\",\"san cristobal\",\"puerto escondido\",\"mar del plata\",\"tiksi\",\"lorengau\",\"urumqi\",\"sayyan\",\"aktau\",\"grand gaube\",\"hithadhoo\",\"basco\",\"nurota\",\"marsabit\",\"rapid valley\",\"mehamn\",\"klaksvik\",\"kisangani\",\"ekhabi\",\"boden\",\"arman\",\"udala\",\"uuemoisa\",\"faya\",\"porto walter\",\"kyaikkami\",\"kukmor\",\"turkistan\",\"zyryanovsk\",\"kropotkin\",\"merauke\",\"sakakah\",\"oriximina\",\"mercedes\",\"camargo\",\"ossora\",\"saskylakh\",\"pogranichnyy\",\"madison\",\"vestmannaeyjar\",\"sakassou\",\"codrington\",\"sao miguel do guama\",\"puerto ayora\",\"borovoy\",\"morgan city\",\"novaya zaimka\",\"sao joao da barra\",\"monkey bay\",\"kachiry\",\"methoni\",\"haines junction\",\"laguna\",\"hovd\",\"encruzilhada do sul\",\"key largo\",\"arica\",\"chalmette\",\"vryburg\",\"dandong\",\"deputatskiy\",\"iskateley\",\"bonavista\",\"saint anthony\",\"vila velha\",\"burnie\",\"kariba\",\"calvinia\",\"havre\",\"nyurba\",\"belaya gora\",\"fairbanks\",\"cisterna\",\"fort-shevchenko\",\"luderitz\",\"mareeba\",\"sola\",\"suzun\",\"lianran\",\"frontera\",\"shubarshi\",\"kawalu\",\"saldanha\",\"kashi\",\"oktyabrskiy\",\"ligayan\",\"gubkinskiy\",\"takapau\",\"ntungamo\",\"komsomolskiy\",\"college\",\"uromi\",\"champerico\",\"belyy yar\",\"garowe\",\"san patricio\",\"alyangula\",\"raudeberg\",\"xichang\",\"bandarbeyla\",\"itarema\",\"ahipara\",\"salalah\",\"kasane\",\"fortuna\",\"vodyane\",\"meulaboh\",\"tocopilla\",\"wagar\",\"ibra\",\"adrar\",\"kahului\",\"kalawit\",\"hualmay\",\"marawi\",\"okhotsk\",\"rio gallegos\",\"los llanos de aridane\",\"dijkot\",\"vaitape\",\"bubaque\",\"samarai\",\"pacific grove\",\"kerewan\",\"ocos\",\"norman wells\",\"ostrovnoy\",\"bac lieu\",\"kyaiklat\",\"leningradskiy\",\"kirakira\",\"nanortalik\",\"alcacer do sal\",\"kanye\",\"kushima\",\"saint-tite\",\"zasechnoye\",\"menongue\",\"perelyub\",\"suluq\",\"nacala\",\"pitimbu\",\"caravelas\",\"luganville\",\"peniche\",\"dunedin\",\"ereymentau\",\"kashirskoye\",\"el real de santa maria\",\"port hedland\",\"sao filipe\",\"boyuibe\",\"ivaipora\",\"abilene\",\"seymchan\",\"hervey bay\",\"portland\",\"huai yot\",\"iqaluit\",\"emba\",\"ladario\",\"paraiso\",\"tazovskiy\",\"muravlenko\",\"cookeville\",\"kothapet\",\"south hadley\",\"marathon\",\"lenoir city\",\"menomonie\",\"ialibu\",\"skala\",\"vao\",\"paidha\",\"preobrazheniye\",\"sobolevo\",\"longyearbyen\",\"marsa matruh\",\"the valley\",\"pahrump\",\"farah\",\"umm bab\",\"pierre\",\"de-kastri\",\"rozhyshche\",\"imbituba\",\"pemangkat\",\"atar\",\"wairoa\",\"kiama\",\"kamenka\",\"bousse\",\"salinopolis\",\"evensk\",\"ortakoy\",\"diamantina\",\"kidal\",\"tikapur\",\"along\",\"whitehorse\",\"paratinga\",\"faanui\",\"morrope\",\"matara\",\"anzio\",\"osterholz-scharmbeck\",\"bontang\",\"elko\",\"beeville\",\"yulara\",\"mwinilunga\",\"prince rupert\",\"megion\",\"orsha\",\"southern pines\",\"karratha\",\"westport\",\"djambala\",\"inirida\",\"athabasca\",\"dudinka\",\"annau\",\"kutum\",\"esperance\",\"ogori\",\"haselunne\",\"fuling\",\"bjornevatn\",\"kushmurun\",\"yakeshi\",\"lagoa\",\"takoradi\",\"la seyne-sur-mer\",\"san carlos de bariloche\",\"cap malheureux\",\"praya\",\"bilma\",\"auki\",\"monrovia\",\"kargasok\",\"san ramon\",\"atambua\",\"fort saint james\",\"olafsvik\",\"guerrero negro\",\"staritsa\",\"zaysan\",\"beruwala\",\"cerreto guidi\",\"kibre mengist\",\"iberia\",\"hegang\",\"raga\",\"awjilah\",\"gotha\",\"kapoeta\",\"lupiro\",\"geraldton\",\"caibarien\",\"iracoubo\",\"tombouctou\",\"bouca\",\"yumen\",\"peace river\",\"walvis bay\",\"mandera\",\"hobyo\",\"palaikastron\",\"nepa nagar\",\"alenquer\",\"jian\",\"paamiut\",\"kavieng\",\"ixtapa\",\"ambon\",\"taoudenni\",\"karpathos\",\"jiuquan\",\"novikovo\",\"nadvoitsy\",\"dombas\",\"grafton\",\"poum\",\"labuhan\",\"khudumelapye\",\"rorvik\",\"flinders\",\"punto fijo\",\"weligama\",\"kiunga\",\"nichinan\",\"springbok\",\"vestmanna\",\"bannu\",\"nogales\",\"dingle\",\"noumea\",\"crotone\",\"vardo\",\"sarab\",\"finschhafen\",\"abonnema\",\"dauphin\",\"potosi\",\"antofagasta\",\"acari\",\"banda aceh\",\"beisfjord\",\"santa maria\",\"nacogdoches\",\"amuntai\",\"pevek\",\"erzin\",\"pangai\",\"bowmore\",\"changtu\",\"mahon\",\"karla\",\"ngunguru\",\"korla\",\"lensk\",\"tabuk\",\"dayong\",\"batemans bay\",\"san jose\",\"shelburne\",\"la asuncion\",\"goderich\",\"kumylzhenskaya\",\"port lincoln\",\"arecibo\",\"khash\",\"flin flon\",\"riviere-du-loup\",\"sebastian\",\"miguel calmon\",\"artyom\",\"byron bay\",\"anadyr\",\"diamantino\",\"nhamunda\",\"simpang\",\"sao felix do xingu\",\"phan thiet\",\"brae\",\"namibe\",\"krutinka\",\"taga\",\"montepuez\",\"obo\",\"yelnya\",\"avera\",\"tukan\",\"qaqortoq\",\"concarneau\",\"sidney\",\"vanavara\",\"nouadhibou\",\"guiglo\",\"marzuq\",\"kerman\",\"turukhansk\",\"nome\",\"fernley\",\"broken hill\",\"praia da vitoria\",\"beyla\",\"kanigiri\",\"herat\",\"san rafael\",\"puerto lumbreras\",\"kara\",\"huarmey\",\"caucaia\",\"brookhaven\",\"goldsboro\"],\"palette\":[\"#1f77b3\",\"#ff7e0e\",\"#2ba02b\",\"#d62628\",\"#9367bc\",\"#8c564b\",\"#e277c1\",\"#7e7e7e\",\"#bcbc21\",\"#16bdcf\",\"#3a0182\",\"#004201\",\"#0fffa8\",\"#5d003f\",\"#bcbcff\",\"#d8afa1\",\"#b80080\",\"#004d52\",\"#6b6400\",\"#7c0100\",\"#6026ff\",\"#ffff9a\",\"#564964\",\"#8cb893\",\"#93fbff\",\"#018267\",\"#90ff00\",\"#8200a0\",\"#ac8944\",\"#5b3400\",\"#ffbff2\",\"#ff6e75\",\"#798cff\",\"#dd00ff\",\"#505646\",\"#004489\",\"#ffbf60\",\"#ff018c\",\"#bdc8cf\",\"#af97b5\",\"#b65600\",\"#017000\",\"#cd87ff\",\"#1cd646\",\"#bfebc3\",\"#7997b5\",\"#a56089\",\"#6e8956\",\"#bc7c75\",\"#8a2844\",\"#00acff\",\"#8ed4ff\",\"#4b6d77\",\"#00d4b1\",\"#9300f2\",\"#8a9500\",\"#5d5b9e\",\"#fddfba\",\"#00939e\",\"#ffdb00\",\"#00aa79\",\"#520067\",\"#000091\",\"#0a5d3d\",\"#a5e275\",\"#623b41\",\"#c6c689\",\"#ff9eb5\",\"#cd4f6b\",\"#ff07d6\",\"#8a3a05\",\"#7e3d70\",\"#ff4901\",\"#602ba5\",\"#1c00ff\",\"#e6dfff\",\"#aa3baf\",\"#d89c00\",\"#a3a39e\",\"#3f69ff\",\"#46490c\",\"#7b6985\",\"#6b978c\",\"#ff9a75\",\"#835bff\",\"#7c6b46\",\"#80b654\",\"#bc0049\",\"#fd93ff\",\"#5d0018\",\"#89d1d1\",\"#9c8cd3\",\"#da6d42\",\"#8a5700\",\"#3b5069\",\"#4b6b3b\",\"#edcfd8\",\"#cfedff\",\"#aa1500\",\"#dfff4f\",\"#ff2a56\",\"#d1499e\",\"#707cb8\",\"#598000\",\"#00e4fd\",\"#774b95\",\"#67d48c\",\"#3d3a72\",\"#ac413f\",\"#d6a166\",\"#c169cd\",\"#69595d\",\"#87aced\",\"#a0a569\",\"#d1aae6\",\"#870062\",\"#00fddb\",\"#672818\",\"#b342ff\",\"#0e59c4\",\"#168742\",\"#90d300\",\"#cd7900\",\"#f959ff\",\"#5b7466\",\"#8eaeb3\",\"#9c7c8c\",\"#4600c6\",\"#6b4d2d\",\"#a56d46\",\"#9e8972\",\"#a8afca\",\"#cd8ca7\",\"#00fd64\",\"#917900\",\"#ff62a1\",\"#f4ffd8\",\"#018cf0\",\"#13aca0\",\"#5b2d59\",\"#89859e\",\"#cfccba\",\"#d4afc4\",\"#dbdd6d\",\"#cffff4\",\"#006485\",\"#006962\",\"#a84167\",\"#2d97c4\",\"#a874ff\",\"#26ba5d\",\"#57b600\",\"#caffa7\",\"#a379aa\",\"#ffbc93\",\"#89e2c1\",\"#0fc8ff\",\"#d400c4\",\"#626d89\",\"#69858e\",\"#4b4d52\",\"#aa6067\",\"#79b5d4\",\"#2b5916\",\"#9a0024\",\"#bdd1f2\",\"#896e67\",\"#69a56b\",\"#855467\",\"#aecdba\",\"#87997e\",\"#cadb00\",\"#9a0390\",\"#ebbc1a\",\"#eb9cd1\",\"#70006e\",\"#b1a131\",\"#ca6b93\",\"#4146a3\",\"#e48c89\",\"#d44400\",\"#c68aca\",\"#b69597\",\"#d41f75\",\"#724bcc\",\"#674d00\",\"#672138\",\"#38564f\",\"#6ebaaa\",\"#853a31\",\"#a5d397\",\"#b8af8e\",\"#d8e4df\",\"#aa00df\",\"#cac1db\",\"#ffdf8c\",\"#e2524d\",\"#66696e\",\"#ff001c\",\"#522d72\",\"#4d906b\",\"#a86d11\",\"#ff9e26\",\"#5ea3af\",\"#c88556\",\"#915997\",\"#a3a1ff\",\"#fdbaba\",\"#242a87\",\"#dbe6a8\",\"#97f2a7\",\"#6793d6\",\"#ba5b3f\",\"#3a5d91\",\"#364f2f\",\"#267c95\",\"#89959a\",\"#cfb356\",\"#004664\",\"#5e5d2f\",\"#8e8e41\",\"#ac3f13\",\"#69953b\",\"#a13d85\",\"#bfb6ba\",\"#acc667\",\"#6469cf\",\"#91af00\",\"#2be2da\",\"#016e36\",\"#ff7952\",\"#42807e\",\"#4fe800\",\"#995428\",\"#5d0a00\",\"#a30057\",\"#0c8700\",\"#5982a7\",\"#ffebfb\",\"#4b6901\",\"#8775d4\",\"#e6c6ff\",\"#a5ffda\",\"#d86e77\",\"#df014b\",\"#69675b\",\"#776ba1\",\"#7e8067\",\"#594685\",\"#0000ca\",\"#7c002a\",\"#97ff72\",\"#b5e2e1\",\"#db52c8\",\"#777734\",\"#57bd8e\",\"#1f77b3\",\"#ff7e0e\",\"#2ba02b\",\"#d62628\",\"#9367bc\",\"#8c564b\",\"#e277c1\",\"#7e7e7e\",\"#bcbc21\",\"#16bdcf\",\"#3a0182\",\"#004201\",\"#0fffa8\",\"#5d003f\",\"#bcbcff\",\"#d8afa1\",\"#b80080\",\"#004d52\",\"#6b6400\",\"#7c0100\",\"#6026ff\",\"#ffff9a\",\"#564964\",\"#8cb893\",\"#93fbff\",\"#018267\",\"#90ff00\",\"#8200a0\",\"#ac8944\",\"#5b3400\",\"#ffbff2\",\"#ff6e75\",\"#798cff\",\"#dd00ff\",\"#505646\",\"#004489\",\"#ffbf60\",\"#ff018c\",\"#bdc8cf\",\"#af97b5\",\"#b65600\",\"#017000\",\"#cd87ff\",\"#1cd646\",\"#bfebc3\",\"#7997b5\",\"#a56089\",\"#6e8956\",\"#bc7c75\",\"#8a2844\",\"#00acff\",\"#8ed4ff\",\"#4b6d77\",\"#00d4b1\",\"#9300f2\",\"#8a9500\",\"#5d5b9e\",\"#fddfba\",\"#00939e\",\"#ffdb00\",\"#00aa79\",\"#520067\",\"#000091\",\"#0a5d3d\",\"#a5e275\",\"#623b41\",\"#c6c689\",\"#ff9eb5\",\"#cd4f6b\",\"#ff07d6\",\"#8a3a05\",\"#7e3d70\",\"#ff4901\",\"#602ba5\",\"#1c00ff\",\"#e6dfff\",\"#aa3baf\",\"#d89c00\",\"#a3a39e\",\"#3f69ff\",\"#46490c\",\"#7b6985\",\"#6b978c\",\"#ff9a75\",\"#835bff\",\"#7c6b46\",\"#80b654\",\"#bc0049\",\"#fd93ff\",\"#5d0018\",\"#89d1d1\",\"#9c8cd3\",\"#da6d42\",\"#8a5700\",\"#3b5069\",\"#4b6b3b\",\"#edcfd8\",\"#cfedff\",\"#aa1500\",\"#dfff4f\",\"#ff2a56\",\"#d1499e\",\"#707cb8\",\"#598000\",\"#00e4fd\",\"#774b95\",\"#67d48c\",\"#3d3a72\",\"#ac413f\",\"#d6a166\",\"#c169cd\",\"#69595d\",\"#87aced\",\"#a0a569\",\"#d1aae6\",\"#870062\",\"#00fddb\",\"#672818\",\"#b342ff\",\"#0e59c4\",\"#168742\",\"#90d300\",\"#cd7900\",\"#f959ff\",\"#5b7466\",\"#8eaeb3\",\"#9c7c8c\",\"#4600c6\",\"#6b4d2d\",\"#a56d46\",\"#9e8972\",\"#a8afca\",\"#cd8ca7\",\"#00fd64\",\"#917900\",\"#ff62a1\",\"#f4ffd8\",\"#018cf0\",\"#13aca0\",\"#5b2d59\",\"#89859e\",\"#cfccba\",\"#d4afc4\",\"#dbdd6d\",\"#cffff4\",\"#006485\",\"#006962\",\"#a84167\",\"#2d97c4\",\"#a874ff\",\"#26ba5d\",\"#57b600\",\"#caffa7\",\"#a379aa\",\"#ffbc93\",\"#89e2c1\",\"#0fc8ff\",\"#d400c4\",\"#626d89\",\"#69858e\",\"#4b4d52\",\"#aa6067\",\"#79b5d4\",\"#2b5916\",\"#9a0024\",\"#bdd1f2\",\"#896e67\",\"#69a56b\",\"#855467\",\"#aecdba\",\"#87997e\",\"#cadb00\",\"#9a0390\",\"#ebbc1a\",\"#eb9cd1\",\"#70006e\",\"#b1a131\",\"#ca6b93\",\"#4146a3\",\"#e48c89\",\"#d44400\",\"#c68aca\",\"#b69597\",\"#d41f75\",\"#724bcc\",\"#674d00\",\"#672138\",\"#38564f\",\"#6ebaaa\",\"#853a31\",\"#a5d397\",\"#b8af8e\",\"#d8e4df\",\"#aa00df\",\"#cac1db\",\"#ffdf8c\",\"#e2524d\",\"#66696e\",\"#ff001c\",\"#522d72\",\"#4d906b\",\"#a86d11\",\"#ff9e26\",\"#5ea3af\",\"#c88556\",\"#915997\",\"#a3a1ff\",\"#fdbaba\",\"#242a87\",\"#dbe6a8\",\"#97f2a7\",\"#6793d6\",\"#ba5b3f\",\"#3a5d91\",\"#364f2f\",\"#267c95\",\"#89959a\",\"#cfb356\",\"#004664\",\"#5e5d2f\",\"#8e8e41\",\"#ac3f13\",\"#69953b\",\"#a13d85\",\"#bfb6ba\",\"#acc667\",\"#6469cf\",\"#91af00\",\"#2be2da\",\"#016e36\",\"#ff7952\",\"#42807e\",\"#4fe800\",\"#995428\",\"#5d0a00\",\"#a30057\",\"#0c8700\",\"#5982a7\",\"#ffebfb\",\"#4b6901\",\"#8775d4\",\"#e6c6ff\",\"#a5ffda\",\"#d86e77\",\"#df014b\",\"#69675b\",\"#776ba1\",\"#7e8067\",\"#594685\",\"#0000ca\",\"#7c002a\",\"#97ff72\",\"#b5e2e1\",\"#db52c8\",\"#777734\",\"#57bd8e\",\"#1f77b3\",\"#ff7e0e\",\"#2ba02b\",\"#d62628\",\"#9367bc\",\"#8c564b\",\"#e277c1\",\"#7e7e7e\",\"#bcbc21\",\"#16bdcf\",\"#3a0182\",\"#004201\",\"#0fffa8\",\"#5d003f\",\"#bcbcff\",\"#d8afa1\",\"#b80080\",\"#004d52\",\"#6b6400\",\"#7c0100\",\"#6026ff\",\"#ffff9a\",\"#564964\",\"#8cb893\",\"#93fbff\",\"#018267\",\"#90ff00\",\"#8200a0\",\"#ac8944\",\"#5b3400\",\"#ffbff2\",\"#ff6e75\",\"#798cff\",\"#dd00ff\",\"#505646\",\"#004489\",\"#ffbf60\",\"#ff018c\",\"#bdc8cf\",\"#af97b5\",\"#b65600\",\"#017000\",\"#cd87ff\",\"#1cd646\",\"#bfebc3\",\"#7997b5\",\"#a56089\",\"#6e8956\",\"#bc7c75\",\"#8a2844\",\"#00acff\",\"#8ed4ff\",\"#4b6d77\",\"#00d4b1\",\"#9300f2\",\"#8a9500\"]},\"id\":\"1480\",\"type\":\"CategoricalColorMapper\"},{\"attributes\":{\"children\":[{\"id\":\"1417\"}],\"margin\":[0,0,0,0],\"name\":\"Row01939\",\"sizing_mode\":\"fixed\",\"tags\":[\"embedded\"]},\"id\":\"1405\",\"type\":\"Row\"},{\"attributes\":{},\"id\":\"1422\",\"type\":\"LinearScale\"},{\"attributes\":{\"fill_alpha\":{\"value\":0.1},\"fill_color\":{\"field\":\"color\",\"transform\":{\"id\":\"1480\"}},\"hatch_alpha\":{\"value\":0.1},\"hatch_color\":{\"field\":\"color\",\"transform\":{\"id\":\"1480\"}},\"line_alpha\":{\"value\":0.1},\"line_color\":{\"field\":\"color\",\"transform\":{\"id\":\"1480\"}},\"size\":{\"field\":\"size\"},\"x\":{\"field\":\"Lng\"},\"y\":{\"field\":\"Lat\"}},\"id\":\"1485\",\"type\":\"Scatter\"},{\"attributes\":{\"dimension\":\"lon\"},\"id\":\"1449\",\"type\":\"MercatorTicker\"},{\"attributes\":{\"coordinates\":null,\"group\":null,\"text_color\":\"black\",\"text_font_size\":\"12pt\"},\"id\":\"1418\",\"type\":\"Title\"},{\"attributes\":{\"axis\":{\"id\":\"1426\"},\"coordinates\":null,\"grid_line_color\":null,\"group\":null,\"ticker\":null},\"id\":\"1429\",\"type\":\"Grid\"},{\"attributes\":{},\"id\":\"1424\",\"type\":\"LinearScale\"},{\"attributes\":{\"axis_label\":\"y\",\"coordinates\":null,\"formatter\":{\"id\":\"1452\"},\"group\":null,\"major_label_policy\":{\"id\":\"1462\"},\"ticker\":{\"id\":\"1451\"}},\"id\":\"1430\",\"type\":\"LinearAxis\"},{\"attributes\":{\"attribution\":\"&copy; <a href=\\\"https://www.openstreetmap.org/copyright\\\">OpenStreetMap</a> contributors\",\"url\":\"https://c.tile.openstreetmap.org/{Z}/{X}/{Y}.png\"},\"id\":\"1475\",\"type\":\"WMTSTileSource\"},{\"attributes\":{\"fill_alpha\":{\"value\":0.2},\"fill_color\":{\"field\":\"color\",\"transform\":{\"id\":\"1480\"}},\"hatch_alpha\":{\"value\":0.2},\"hatch_color\":{\"field\":\"color\",\"transform\":{\"id\":\"1480\"}},\"line_alpha\":{\"value\":0.2},\"line_color\":{\"field\":\"color\",\"transform\":{\"id\":\"1480\"}},\"size\":{\"field\":\"size\"},\"x\":{\"field\":\"Lng\"},\"y\":{\"field\":\"Lat\"}},\"id\":\"1488\",\"type\":\"Scatter\"},{\"attributes\":{\"dimension\":\"lat\"},\"id\":\"1451\",\"type\":\"MercatorTicker\"},{\"attributes\":{\"axis_label\":\"x\",\"coordinates\":null,\"formatter\":{\"id\":\"1450\"},\"group\":null,\"major_label_policy\":{\"id\":\"1455\"},\"ticker\":{\"id\":\"1449\"}},\"id\":\"1426\",\"type\":\"LinearAxis\"},{\"attributes\":{\"label\":{\"field\":\"color\"},\"renderers\":[{\"id\":\"1489\"}]},\"id\":\"1498\",\"type\":\"LegendItem\"},{\"attributes\":{\"dimension\":\"lon\"},\"id\":\"1450\",\"type\":\"MercatorTickFormatter\"},{\"attributes\":{\"data\":{\"City\":[\"mount gambier\",\"uhlove\",\"hofn\",\"port hardy\",\"cape town\",\"pisco\",\"rikitea\",\"goure\",\"sur\",\"cherskiy\",\"albany\",\"victoria\",\"juneau\",\"seoul\",\"mataura\",\"valdivia\",\"karpogory\",\"ilulissat\",\"saint-pierre\",\"northam\",\"lavrentiya\",\"aklavik\",\"katsuura\",\"ancud\",\"innisfail\",\"quatre cocos\",\"port alfred\",\"nabire\",\"east london\",\"mitsamiouli\",\"ous\",\"lompoc\",\"ponta do sol\",\"kavaratti\",\"san andres\",\"manado\",\"ushuaia\",\"punta arenas\",\"bambous virieux\",\"ardahan\",\"dehloran\",\"georgetown\",\"hillsborough\",\"boksitogorsk\",\"nikolskoye\",\"saurimo\",\"busselton\",\"astaneh-ye ashrafiyeh\",\"kannangad\",\"sitka\",\"upernavik\",\"butaritari\",\"saint-philippe\",\"xuddur\",\"vaini\",\"mahajanga\",\"gazojak\",\"tarragona\",\"arraial do cabo\",\"lebu\",\"clyde river\",\"truth or consequences\",\"severo-kurilsk\",\"yellowknife\",\"port elizabeth\",\"ribeira grande\",\"lazaro cardenas\",\"north bend\",\"new norfolk\",\"mulege\",\"bredasdorp\",\"chapada dos guimaraes\",\"talnakh\",\"mount isa\",\"qaanaaq\",\"airai\",\"narsaq\",\"upata\",\"kalmunai\",\"avarua\",\"bluff\",\"cabedelo\",\"ban nahin\",\"hay river\",\"hami\",\"vila franca do campo\",\"chokurdakh\",\"saint-augustin\",\"fort nelson\",\"revelstoke\",\"dikson\",\"kaitangata\",\"coihaique\",\"tuktoyaktuk\",\"visnes\",\"fougeres\",\"cockburn town\",\"tasiilaq\",\"hobart\",\"cidreira\",\"maragogi\",\"chuy\",\"soyo\",\"kurdzhinovo\",\"thompson\",\"vostok\",\"bethel\",\"broome\",\"mahebourg\",\"kodiak\",\"gouyave\",\"barranca\",\"vanderhoof\",\"hasaki\",\"jamestown\",\"touros\",\"hermanus\",\"naron\",\"surt\",\"atuona\",\"novyy urengoy\",\"kathu\",\"samana\",\"comodoro rivadavia\",\"natal\",\"cabo san lucas\",\"asau\",\"yar-sale\",\"hilo\",\"husavik\",\"barrow\",\"poya\",\"black river\",\"scalea\",\"okato\",\"kapaa\",\"urucara\",\"izumo\",\"hua hin\",\"zeya\",\"bima\",\"newport\",\"coquimbo\",\"hirara\",\"datong\",\"khatanga\",\"karachi\",\"dali\",\"talbahat\",\"bambui\",\"provideniya\",\"bambari\",\"chabahar\",\"agasegyhaza\",\"hue\",\"verkhnevilyuysk\",\"carnarvon\",\"ocampo\",\"castro\",\"kon tum\",\"jumla\",\"coahuayana\",\"vasterhaninge\",\"lata\",\"marsh harbour\",\"belmonte\",\"cape coast\",\"raiganj\",\"risch\",\"dalvik\",\"hambantota\",\"abu samrah\",\"bathsheba\",\"novoagansk\",\"solnechnyy\",\"bengkulu\",\"borova\",\"souillac\",\"pundaguitan\",\"torbay\",\"senneterre\",\"west wendover\",\"miandrivazo\",\"wangaratta\",\"paita\",\"rawson\",\"rossosh\",\"cravo norte\",\"saint george\",\"naze\",\"xining\",\"abbeville\",\"healdsburg\",\"san cristobal\",\"puerto escondido\",\"mar del plata\",\"tiksi\",\"lorengau\",\"urumqi\",\"sayyan\",\"aktau\",\"grand gaube\",\"hithadhoo\",\"basco\",\"nurota\",\"marsabit\",\"rapid valley\",\"mehamn\",\"klaksvik\",\"kisangani\",\"ekhabi\",\"boden\",\"arman\",\"udala\",\"uuemoisa\",\"faya\",\"porto walter\",\"kyaikkami\",\"kukmor\",\"turkistan\",\"zyryanovsk\",\"kropotkin\",\"merauke\",\"sakakah\",\"oriximina\",\"mercedes\",\"camargo\",\"ossora\",\"saskylakh\",\"pogranichnyy\",\"madison\",\"vestmannaeyjar\",\"sakassou\",\"codrington\",\"sao miguel do guama\",\"puerto ayora\",\"borovoy\",\"morgan city\",\"novaya zaimka\",\"sao joao da barra\",\"monkey bay\",\"kachiry\",\"methoni\",\"haines junction\",\"laguna\",\"hovd\",\"encruzilhada do sul\",\"key largo\",\"arica\",\"chalmette\",\"vryburg\",\"dandong\",\"deputatskiy\",\"iskateley\",\"bonavista\",\"saint anthony\",\"vila velha\",\"burnie\",\"kariba\",\"calvinia\",\"havre\",\"nyurba\",\"belaya gora\",\"fairbanks\",\"cisterna\",\"fort-shevchenko\",\"luderitz\",\"mareeba\",\"sola\",\"suzun\",\"lianran\",\"frontera\",\"shubarshi\",\"kawalu\",\"saldanha\",\"kashi\",\"oktyabrskiy\",\"ligayan\",\"gubkinskiy\",\"takapau\",\"ntungamo\",\"komsomolskiy\",\"college\",\"uromi\",\"champerico\",\"belyy yar\",\"garowe\",\"san patricio\",\"alyangula\",\"raudeberg\",\"xichang\",\"bandarbeyla\",\"itarema\",\"ahipara\",\"salalah\",\"kasane\",\"fortuna\",\"vodyane\",\"meulaboh\",\"tocopilla\",\"wagar\",\"ibra\",\"adrar\",\"kahului\",\"kalawit\",\"hualmay\",\"marawi\",\"okhotsk\",\"rio gallegos\",\"los llanos de aridane\",\"dijkot\",\"vaitape\",\"bubaque\",\"samarai\",\"pacific grove\",\"kerewan\",\"ocos\",\"norman wells\",\"ostrovnoy\",\"bac lieu\",\"kyaiklat\",\"leningradskiy\",\"kirakira\",\"nanortalik\",\"alcacer do sal\",\"kanye\",\"kushima\",\"saint-tite\",\"zasechnoye\",\"menongue\",\"perelyub\",\"suluq\",\"nacala\",\"pitimbu\",\"caravelas\",\"luganville\",\"peniche\",\"dunedin\",\"ereymentau\",\"kashirskoye\",\"el real de santa maria\",\"port hedland\",\"sao filipe\",\"boyuibe\",\"ivaipora\",\"abilene\",\"seymchan\",\"hervey bay\",\"portland\",\"huai yot\",\"iqaluit\",\"emba\",\"ladario\",\"paraiso\",\"tazovskiy\",\"muravlenko\",\"cookeville\",\"kothapet\",\"south hadley\",\"marathon\",\"lenoir city\",\"menomonie\",\"ialibu\",\"skala\",\"vao\",\"paidha\",\"preobrazheniye\",\"sobolevo\",\"longyearbyen\",\"marsa matruh\",\"the valley\",\"pahrump\",\"farah\",\"umm bab\",\"pierre\",\"de-kastri\",\"rozhyshche\",\"imbituba\",\"pemangkat\",\"atar\",\"wairoa\",\"kiama\",\"kamenka\",\"bousse\",\"salinopolis\",\"evensk\",\"ortakoy\",\"diamantina\",\"kidal\",\"tikapur\",\"along\",\"whitehorse\",\"paratinga\",\"faanui\",\"morrope\",\"matara\",\"anzio\",\"osterholz-scharmbeck\",\"bontang\",\"elko\",\"beeville\",\"yulara\",\"mwinilunga\",\"prince rupert\",\"megion\",\"orsha\",\"southern pines\",\"karratha\",\"westport\",\"djambala\",\"inirida\",\"athabasca\",\"dudinka\",\"annau\",\"kutum\",\"esperance\",\"ogori\",\"haselunne\",\"fuling\",\"bjornevatn\",\"kushmurun\",\"yakeshi\",\"lagoa\",\"takoradi\",\"la seyne-sur-mer\",\"san carlos de bariloche\",\"cap malheureux\",\"praya\",\"bilma\",\"auki\",\"monrovia\",\"kargasok\",\"san ramon\",\"atambua\",\"fort saint james\",\"olafsvik\",\"guerrero negro\",\"staritsa\",\"zaysan\",\"beruwala\",\"cerreto guidi\",\"kibre mengist\",\"iberia\",\"hegang\",\"raga\",\"awjilah\",\"gotha\",\"kapoeta\",\"lupiro\",\"geraldton\",\"caibarien\",\"iracoubo\",\"tombouctou\",\"bouca\",\"yumen\",\"peace river\",\"walvis bay\",\"mandera\",\"hobyo\",\"palaikastron\",\"nepa nagar\",\"alenquer\",\"jian\",\"paamiut\",\"kavieng\",\"ixtapa\",\"ambon\",\"taoudenni\",\"karpathos\",\"jiuquan\",\"novikovo\",\"nadvoitsy\",\"dombas\",\"grafton\",\"poum\",\"labuhan\",\"khudumelapye\",\"rorvik\",\"flinders\",\"punto fijo\",\"weligama\",\"kiunga\",\"nichinan\",\"springbok\",\"vestmanna\",\"bannu\",\"nogales\",\"dingle\",\"noumea\",\"crotone\",\"vardo\",\"sarab\",\"finschhafen\",\"abonnema\",\"dauphin\",\"potosi\",\"antofagasta\",\"acari\",\"banda aceh\",\"beisfjord\",\"santa maria\",\"nacogdoches\",\"amuntai\",\"pevek\",\"erzin\",\"pangai\",\"bowmore\",\"changtu\",\"mahon\",\"karla\",\"ngunguru\",\"korla\",\"lensk\",\"tabuk\",\"dayong\",\"batemans bay\",\"san jose\",\"shelburne\",\"la asuncion\",\"goderich\",\"kumylzhenskaya\",\"port lincoln\",\"arecibo\",\"khash\",\"flin flon\",\"riviere-du-loup\",\"sebastian\",\"miguel calmon\",\"artyom\",\"byron bay\",\"anadyr\",\"diamantino\",\"nhamunda\",\"simpang\",\"sao felix do xingu\",\"phan thiet\",\"brae\",\"namibe\",\"krutinka\",\"taga\",\"montepuez\",\"obo\",\"yelnya\",\"avera\",\"tukan\",\"qaqortoq\",\"concarneau\",\"sidney\",\"vanavara\",\"nouadhibou\",\"guiglo\",\"marzuq\",\"kerman\",\"turukhansk\",\"nome\",\"fernley\",\"broken hill\",\"praia da vitoria\",\"beyla\",\"kanigiri\",\"herat\",\"san rafael\",\"puerto lumbreras\",\"kara\",\"huarmey\",\"caucaia\",\"brookhaven\",\"goldsboro\"],\"Humidity\":[64,93,55,58,88,83,61,16,71,84,59,89,95,62,66,96,96,86,83,97,76,67,63,94,79,77,87,76,70,75,78,80,64,72,65,83,81,65,94,88,23,93,66,93,95,75,71,93,87,81,94,78,79,75,94,94,14,85,88,93,93,9,90,70,92,87,57,71,55,32,87,77,95,47,68,79,81,80,85,65,78,83,58,23,14,90,87,81,24,20,97,98,87,73,86,98,74,92,64,79,86,89,86,82,45,46,82,44,94,75,89,81,45,65,44,89,83,75,76,72,95,77,81,33,83,47,82,95,74,64,79,69,73,63,53,66,86,82,95,50,86,95,82,83,43,92,78,58,31,87,57,74,73,66,94,92,54,7,83,71,84,51,90,73,73,85,94,33,75,79,87,60,83,100,77,92,88,94,77,94,80,14,70,74,76,45,96,58,14,73,61,98,34,95,66,89,81,77,19,63,64,77,76,85,29,83,83,65,60,83,92,100,76,87,78,59,97,75,94,24,83,91,75,18,90,57,7,79,95,81,93,68,80,74,96,89,87,77,62,97,77,48,69,52,24,41,67,74,77,61,53,35,67,94,90,71,89,93,64,92,94,97,87,44,55,73,84,68,71,63,55,32,63,91,82,54,67,71,97,65,97,44,45,92,57,71,74,62,59,54,68,71,90,73,79,53,69,88,88,82,32,64,10,86,76,80,81,78,66,72,34,76,72,81,75,37,63,48,81,74,72,89,71,84,59,50,63,66,1,51,56,60,86,83,83,62,92,63,49,89,90,64,79,75,88,27,69,85,45,86,92,63,64,76,93,98,96,58,72,52,96,48,75,80,75,91,60,89,93,67,94,8,17,42,54,78,81,87,87,17,73,53,65,45,86,72,90,59,7,38,88,44,43,76,66,89,61,86,83,19,57,33,81,64,100,89,97,52,78,89,94,35,100,56,50,63,63,70,78,86,43,45,81,87,71,76,77,78,12,63,79,93,32,83,54,63,72,97,39,88,78,98,53,34,73,37,75,82,80,82,77,88,11,86,27,23,69,66,76,71,57,94,90,87,73,73,90,8,72,28,95,93,93,80,69,86,47,81,53,74,91,92,64,80,80,55,7,72,99,63,86,59,71,89,75,63,78,79,80,95,100,63,95,89,81,79,84,93,88,88,67,25,81,76,74,39,25,73,86,40,62,51,79,57,32,53,91,77,91,65,78,88,88,93,92,73,75,75,51,85,98,72,92,94,77,82,98,71,86,88,94,52,93,88,59,11,43,82,87,85,18,42,54,74,81,86,83,91],\"Lat\":{\"__ndarray__\":\"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\",\"dtype\":\"float64\",\"order\":\"little\",\"shape\":[568]},\"Lng\":{\"__ndarray__\":\"bjWrq2fjbUHRyAfqUYpMQfspcxQp1TnBYlhRzO8Na8HCACc+LUs/QX13fIfGLmDB+J+800eobMGcEcCy/3ExQaOQeLVpR1lBFtvWnb8fcUHJDxPu5WhfwX+aFyERPWhBgIrPkWmKbMHptDcB6PVqQYwCOv5T7XFBXL+aEpgaX8Hby515pd9SQfC4sH4as1XB2z/mdQyPV0EQFFqWY6YcwSV2zw5fJ3LBWkUFTImqbMErkN2RCcptQY99Mo0JWV/BrxoJE6wBb0Hoh5AFY4dYQaFgpTaq1kZB4pnxfjnEbEEdbLOMkLRHQdy3gVd3YVJBPvJ7zrYfWkFzgOEChJNpwdWJ5UrLCz3BiijQnPHYXkGjbBCm2lhhwRhRnC8BgmpBndInTuwAXcFdALK7Yh1ewVfYU9/XhlhBqWI5yiwiUkGre8SjgxJUQeyHXrTATWVBSRO7j/X7acHE6l3kXr9MQbOJ3XyKJUpBxZSkQ49RQUGPvkeH93xoQQ0vQ0t6NVVBPUaRxNbkX0FfugxW5LtswYEy6Lef2FfBIMQ/UQZYckFJUcKOja5XQb2yMGo8o1JB8XmXbISZcsF58GPdG6tTQVcsCF82E1pBPBcdWvD4AEE97eNS3NhRwdaczR+GRl/B3Ywh7pkgXcHv/qDiv8VmwbBoALgak3BBYx9FwqdHaMGH6nlBebdFQb3PYLH6X0jB8LiwfhqzZcECrT46PWBqwcgaOXNoOW9BpAHefeDGZ8HnX+T+LQVBQffw0A2TrFfBGmNUadnEYkFKs+aejZ5tQS2HpAaBdF3BtAMdCaWgakFfFESjHY5TwaA0inFpf1rBn4E8LCpfYUGQkEN6TfZwwc4z1ZPl3nFBL/JSAZ6VTcHA9DoheiBmQY123DxUlmjBGqlEzX7XY0FkJqoAu5lFwYOLKXcLaG9BFPeHmePnWMFwbxh5ZQ1qwctLF3vpGGnBjaF2Bx4aYUFtWC3sBAhyQZ92/itZml7Bv5X780Y/bMFJhk6RZr8hQR3Ukhx7TgDBtpFABd41XsFsip60BvdPwdsbLjkfSG9B1RbtdN9RVcFCBtphG+pNwYYSsoXVs1bB7/ZQpoMCNUHd+JgAQmRRQegpeDr5xmTBUQhtePfZbEH11zZG3ixfwfgcQF7rGWDBZPWZp5eAWEFhDFs+EC5wwVBJ4+imNlrBb8M6rgaDYMFhQH+fH1Vqwf5+xGcG521BCZn2J9rSYMFe1XwZ6x1OwXXkcV/7VUBBS97NFluyK8FLWA2jdS08QQQOGYUvhW3BrcHhfWtFYEGr+xA47OBkQTQArRmlcV3B3Bg6aPSpXMHYWVQ9QudNwQy1ywxQVmfBqONJR+lrRkGkAMi4URReQWjrO735dnDBR6XXhK1zPcHML/BjJKVwwZHeeN5hiHFBbsmStHuHYMFtERYmltQ6QfiBnYa7dXJBLFRC3+jpcMEfMHJyHYdYwauUBi6QMGxB+vvrVkg5ZUEmZqUHnAVrQYgN91LfNGlBCfzccVFfFMGEg0tOy0tewbUZJiXNmWpB5DuynvoNaEHDS835aMNlQd1FGRaJfFxBuMckPnxFZUGlMo1gQqdgQW8DKUYrhlPBqFMSPOFlcsHLZKkyVI9BQcXPVPiGwFlBXUP17kqFQEHZC7Mmn9hmQUnH5DjXi2lBNCn7IpAgaEGrtxgKDo1lwR9xds/QPFXBSXouIF3uZkFiAI9YHnNhQQ7OHIW6A2bBmSqKyKK+PkFxi4TXz04swZ8GvhbPXGDBZ5HIX/eCUMHlb40El/AAwQSNlEWatWJBNCPBpP+sLEGxRC5RAnk/wVAvpcM2OWFBr//uiZmUT0FkaTYvFkZZwSZm0M4BR2BBiH0XMagCbUF20FfsqbZlQUVFYKxNkUlBAhlkcKpsWEGBWnY28MlqQYY9MiZ0ZFbB9ET+fgFmYMHiVWm1ejhowR1bF3m0TlNBhK0ljvoRb0EDL4e2/ThhwUiOq7hMpVvBR5Pn7JxaUEFgbHgq689dwZolk4XjHWjBTyG24Bd+a0G4pSgnjZtlQfZvBS6Q6QhBONPmGJUWasH1KT6OnKtewRJUvvMUnGTB52nY5RlxWMFYJpR/uVxrQXStwl/1RG9BUxy0YYuZYkGJXNBohtJSQShwbnv5vVVBUk1DuVR8WEERm3Tv6ghfQX1fypG35WlBE+QvYAnlW0GRvbAU5iFQQQeU+zKK5mXBMfypYf+mR0GWnuo/WGImwWe2gJUBZ0VB8sm1GAJbbkFk9zn0jWtCQbvYfxJY4m9BELbp4SgSEcGJ0oD/0whEQXL/liTbBlJBOxgBegXkXsFTCGCNTbdkQaB7TazAnFVB9azuV0/gXEFjuOAfnuRhQXBEXMj9OlFB8jTq79jLbUFWWWD+2hJRQZaqfnM6uVfBVze80Lw8WcFx0MHvW1RmwVha7o3nT3FBcQWm2wU5aEFAHIUzBeVrQRJB1h5aYWLBr2VGSNw3QcGODu4S4/ohwcCAHZihJG5B/2K9Me4pVMEqwMiLFy9jwcbS5aMTR2JBoWIN0ZBdY8FkjPYuWWtcQXuvGuOublHBfMAO4FuoTUHFMPy/oChgQRZHNjUZb0JB3aSBB24ybcGPBcJyBMhpwc8kljQ3dWNBuLR2yq1NVsFsHRgPuxRhwST+p+/M2l3Bs9UY/PoZY8FOd7RyeABFQaUKKlWAaWpBuiFimEu0bUGKIzghF5JWQViI41YfjlbBsFleieLKY8HwZUwlNxxRwVJjwJdV+25BLT7cqrh1SEEpov0ft8tAQUabNynZHeJA/YBI2/QfaUFgrZoPgxZvQXcMwU0oXW/BY0S2qxvGUcE8HzXkHFhVQQC2ULDwvzlBB/XPHA/hbkHiKevKm8lxQZyGv6wQemFBbERyQJjCZUHdSelKVoplwReLoiXQSFhBHDIoN675ZkFkz+k043o+QUrQd7DkIWBBV1KAH9u0VkFbomrL2V1pQXRaPs9QPmBBs+g4g8W4ckHmaHVzhy5JQT6CaNuXdF5BmNrhjdphb8HaAkt294MlQS8mqQcnhGPBXysaNYpnY0HNyXx2xZZUQd4K23SNtGTBThAcfBj3bEGcEcCy/3EhQaxZrLOMtmVBhrq5DtGTVUF1IvatXPNQwXaT3M1BYnJBnU8fm2j4VkEv/8KYIlxFQViuQe2YXGrBXRG+M15LTUFOjHb1FWlkQTN+5Z4+z13B380A5VS/TkFB0xISMdtYQUo/RrlVGzHBHT2XC3uccMGxpgsVbANqQU6Gcnq4emDBzJKRZvZjakF0TPtgGm1uQVzJUum6ZF3BIPJh5pRvPsHa47byC/5eQbpkpcszHHDBqnjB5PrkOsHHIlqKhf1vQcSTmbrN4mnBH3ICBhVUO8GE1rzmL5NjwY2wALsH7mrBvIn8inzHUEGF5upLrHJmQRibp8aaU2RBNpgWg/DwckGpbr65nDBxQYM597u+NVPB9idGWNXsLMFWedih24NFQXskMgQ33WtBg6Dr+ajQXsG1TUR5RiRTQaZgkxzJDD5B2Wxn2WJjVUHettC6OjNBQTkUptiORVFBRPdI0B2QTcEBMWygrapQwSzXvv4wv3FBSWPXjJbeL8EVAONe4RlyQVFZZ4gXC19BpSEP1UrSUEEtxy3KKoFgwR/EaBW4LGlB1JD929rNRMGbd9Qujt9aweplF5+q8lXB7BAIvQMtZcHZAGDVxS5wQedUk1wxOnBBSv25gxcMasEA93DmqydlQfkKINA9GF3B6Ckkr+GwWEGLwWv653VYwZXlYnyIzmHBsiCdfcG1YEH5jGSabaVfQY5KXlJ1J2LBjDRxD1XgYEF45pwYm9Fewdqh6k5LD2PBkFmF4MDjYcFZP3E1S4Rjwc8OH2PMkm5Bp5k6UpbcQEF3DsK6y8dxQfUnfgrlUEpBy/phCINubEFZyT+doxdLQdj0y/f3kDpBkc4UdrIjR0GbVvCLCsdawa7hBZZUoGjB6U8sC2eKWkH4Cn3oRZNVQeoeD8eZTmXBLxGVqE7kbUEwjCKsB3ZFQff90ED4qlTBm2nWsegiZ0EkLhA5pCo2wUOXpCtn1HJBAO2LQzIEcEFDbPltTilSQVdFgOx1tgnB2HUHPBocVMGTK/mdlOdwQZlzKWC56ExBKZtxzM6DUsH6gROiXCEDQRtcjrQEOmFBDZk4mRAfZEEkv9wH4axswYlL4MmSVlLBumSlyzMccME2KR1dBf1gwfa/x5KDGWFBE/nvM8puNUE32rcJN+UtQTH5YQW98mhBT/Cj2BeGaMGgymtfIcFkweLmuDTuz2tB6olDnnC/REGcE4Llk6trwVXgOOYrKWBBnaO3Qb/SSUG+wxXNYttgwYkav9M0z2hBuei2BMUmX8EA9PDXWQ85QXr/e30J2FzBWp9aIacNaME6tAmaNkxiQVhHsNRM2VhBGfvkPQ7zREEDuK+95uFpQew246JG5mtBAdt4ShpsKUFPQfJzT81mQcIujsRMd0lB79gMSRNyW0F5EUovfKJpQZCmdVonxEfBLQOE35HaB8Gz3Gyd0/0jQWJM2yDyR17BcngD2kN3WEHe7LBBSPdDwaFWJRKX8DVB8AmCyogPcUFIUv9o8VYywSVOl8oCK2FB/aoiGyTmacGh8B8wj4RqQdbgZNeiYWrBYbKTVfYjRMFCQkjy0DdowSn9JXivq01BtauJuvIEYkE33C6Se/tgQYrk7+lheTJBYI2/RuSNUEGrkIYmIXtjwQz+IVUcrmtBDzw68e7ORUHlNi1vNxRCQaYz+w6iLTJBRFS5izuHTEGsv8AvGyRPQYQYo7QbVWhBWDP52nDfYMGZJCXXg5dWwSWJt+MZYhTBpR98c/4JP0F21CnQU6NkQWN/gjkb52jB6RccnIKjOEHhJr9HYcdRQfjonKpem1RBAb4QUUxLRkGuZRcjvThgQfF1tOufPlfB56oWpLlpaEFgzhuNaBdVwYiGtz1LAnBBOXXOTStWZsEmXqsFVDdrQczlSUvxEBvBr7iOyLccR0FWQaxZ7+pkQVPzDW/PFlBBYBzsyColTUHDA56/jv4uQa84Tx/5cF7BUtRo+JRpcUHyxhXT7tJnQW5F1bIqBUVBjmCOg3IWM0GnocJA4gNwQZIBde5tz13BFn8MQxETYUFbBKu04f9tQSOS1kR35GtBMG9zEsxhPkGAdGX/f1gowYhVNSdA+11BRn3EpkmOZ8E9uGKM0AtqQfPP4qvoq3FBTWKNx4gTPUE23B+kHWxKQRUuc6myGlNBkhcXM2dlb0HkFqbd2BMnQeIhKypAPmXBnYkLZwzsW8E32rcJN+VdwYHMHDeEr1/BEEt9WEI9ZEHB3150seQ9QeLzYi1f2VbB8QUGIdMXZMFTHLYQaHhoQVcYTV21FHJBmSqKyKK+TkGaVISTaoJyweYBu5aJ1mDBBeLU+zxZakFv3jy8yvscQUL2qU3CK0VBUHlLMn6GckEQTlOhiEpiQfdVkQXtZmhBDwdYtCHJaUH0S6oJqx1pQXy0aQ8/429BO2CRKqHhacEk/0nyggdhweu/GpiNHlvBdctr5bdZYcEXz1W29BVSQZEsg3sQ2WxBpmcfcLFUXMEn5c7ry/5ZQaW/v/3koGXBwmEm7xeHXcGPKdDp5QNkwWDjo64ZPVHBFbmG+7hfVUGhOCRN705wQfHySGmS13JBqTf+xkf4V8Fpo3NaThVYwX08mH54GWZBWHofO2YUVsHlVY2ezPNmQc6/GCu6YgLB+PRMt0ikNEHpMSBgBl5eQV1AdeD4bERBxo+vr6yPUEGtpT8czn5GQcHpFkvULkxBjef0V8eFYcECEODm+mVYQVKC/uBMjFPBFPl/z6qmGsFcXT76cw1wQZlt64Nvt2VBDKI7IWbvPMGANa1jq3cpwU6DgFhqu1NBOK3evA89WEFbH/AEWq5iQeYZjcNZj3HBUqveNPVRacGmpP1dowduQZ1Vd6Hd/EbBKLOmHj1ULcGaxrbRJeJgQc+7dxsMVFpBh8oF/DEEXcEoLVYPd5cIwUuAXWIgHgBB6Mx34/qXYMFAlTba/mlQwS+6eJXsM2PBlmMC2VCPYME=\",\"dtype\":\"float64\",\"order\":\"little\",\"shape\":[568]},\"color\":[\"mount gambier\",\"uhlove\",\"hofn\",\"port hardy\",\"cape town\",\"pisco\",\"rikitea\",\"goure\",\"sur\",\"cherskiy\",\"albany\",\"victoria\",\"juneau\",\"seoul\",\"mataura\",\"valdivia\",\"karpogory\",\"ilulissat\",\"saint-pierre\",\"northam\",\"lavrentiya\",\"aklavik\",\"katsuura\",\"ancud\",\"innisfail\",\"quatre cocos\",\"port alfred\",\"nabire\",\"east london\",\"mitsamiouli\",\"ous\",\"lompoc\",\"ponta do sol\",\"kavaratti\",\"san andres\",\"manado\",\"ushuaia\",\"punta arenas\",\"bambous virieux\",\"ardahan\",\"dehloran\",\"georgetown\",\"hillsborough\",\"boksitogorsk\",\"nikolskoye\",\"saurimo\",\"busselton\",\"astaneh-ye ashrafiyeh\",\"kannangad\",\"sitka\",\"upernavik\",\"butaritari\",\"saint-philippe\",\"xuddur\",\"vaini\",\"mahajanga\",\"gazojak\",\"tarragona\",\"arraial do cabo\",\"lebu\",\"clyde river\",\"truth or consequences\",\"severo-kurilsk\",\"yellowknife\",\"port elizabeth\",\"ribeira grande\",\"lazaro cardenas\",\"north bend\",\"new norfolk\",\"mulege\",\"bredasdorp\",\"chapada dos guimaraes\",\"talnakh\",\"mount isa\",\"qaanaaq\",\"airai\",\"narsaq\",\"upata\",\"kalmunai\",\"avarua\",\"bluff\",\"cabedelo\",\"ban nahin\",\"hay river\",\"hami\",\"vila franca do campo\",\"chokurdakh\",\"saint-augustin\",\"fort nelson\",\"revelstoke\",\"dikson\",\"kaitangata\",\"coihaique\",\"tuktoyaktuk\",\"visnes\",\"fougeres\",\"cockburn town\",\"tasiilaq\",\"hobart\",\"cidreira\",\"maragogi\",\"chuy\",\"soyo\",\"kurdzhinovo\",\"thompson\",\"vostok\",\"bethel\",\"broome\",\"mahebourg\",\"kodiak\",\"gouyave\",\"barranca\",\"vanderhoof\",\"hasaki\",\"jamestown\",\"touros\",\"hermanus\",\"naron\",\"surt\",\"atuona\",\"novyy urengoy\",\"kathu\",\"samana\",\"comodoro rivadavia\",\"natal\",\"cabo san lucas\",\"asau\",\"yar-sale\",\"hilo\",\"husavik\",\"barrow\",\"poya\",\"black river\",\"scalea\",\"okato\",\"kapaa\",\"urucara\",\"izumo\",\"hua hin\",\"zeya\",\"bima\",\"newport\",\"coquimbo\",\"hirara\",\"datong\",\"khatanga\",\"karachi\",\"dali\",\"talbahat\",\"bambui\",\"provideniya\",\"bambari\",\"chabahar\",\"agasegyhaza\",\"hue\",\"verkhnevilyuysk\",\"carnarvon\",\"ocampo\",\"castro\",\"kon tum\",\"jumla\",\"coahuayana\",\"vasterhaninge\",\"lata\",\"marsh harbour\",\"belmonte\",\"cape coast\",\"raiganj\",\"risch\",\"dalvik\",\"hambantota\",\"abu samrah\",\"bathsheba\",\"novoagansk\",\"solnechnyy\",\"bengkulu\",\"borova\",\"souillac\",\"pundaguitan\",\"torbay\",\"senneterre\",\"west wendover\",\"miandrivazo\",\"wangaratta\",\"paita\",\"rawson\",\"rossosh\",\"cravo norte\",\"saint george\",\"naze\",\"xining\",\"abbeville\",\"healdsburg\",\"san cristobal\",\"puerto escondido\",\"mar del plata\",\"tiksi\",\"lorengau\",\"urumqi\",\"sayyan\",\"aktau\",\"grand gaube\",\"hithadhoo\",\"basco\",\"nurota\",\"marsabit\",\"rapid valley\",\"mehamn\",\"klaksvik\",\"kisangani\",\"ekhabi\",\"boden\",\"arman\",\"udala\",\"uuemoisa\",\"faya\",\"porto walter\",\"kyaikkami\",\"kukmor\",\"turkistan\",\"zyryanovsk\",\"kropotkin\",\"merauke\",\"sakakah\",\"oriximina\",\"mercedes\",\"camargo\",\"ossora\",\"saskylakh\",\"pogranichnyy\",\"madison\",\"vestmannaeyjar\",\"sakassou\",\"codrington\",\"sao miguel do guama\",\"puerto ayora\",\"borovoy\",\"morgan city\",\"novaya zaimka\",\"sao joao da barra\",\"monkey bay\",\"kachiry\",\"methoni\",\"haines junction\",\"laguna\",\"hovd\",\"encruzilhada do sul\",\"key largo\",\"arica\",\"chalmette\",\"vryburg\",\"dandong\",\"deputatskiy\",\"iskateley\",\"bonavista\",\"saint anthony\",\"vila velha\",\"burnie\",\"kariba\",\"calvinia\",\"havre\",\"nyurba\",\"belaya gora\",\"fairbanks\",\"cisterna\",\"fort-shevchenko\",\"luderitz\",\"mareeba\",\"sola\",\"suzun\",\"lianran\",\"frontera\",\"shubarshi\",\"kawalu\",\"saldanha\",\"kashi\",\"oktyabrskiy\",\"ligayan\",\"gubkinskiy\",\"takapau\",\"ntungamo\",\"komsomolskiy\",\"college\",\"uromi\",\"champerico\",\"belyy yar\",\"garowe\",\"san patricio\",\"alyangula\",\"raudeberg\",\"xichang\",\"bandarbeyla\",\"itarema\",\"ahipara\",\"salalah\",\"kasane\",\"fortuna\",\"vodyane\",\"meulaboh\",\"tocopilla\",\"wagar\",\"ibra\",\"adrar\",\"kahului\",\"kalawit\",\"hualmay\",\"marawi\",\"okhotsk\",\"rio gallegos\",\"los llanos de aridane\",\"dijkot\",\"vaitape\",\"bubaque\",\"samarai\",\"pacific grove\",\"kerewan\",\"ocos\",\"norman wells\",\"ostrovnoy\",\"bac lieu\",\"kyaiklat\",\"leningradskiy\",\"kirakira\",\"nanortalik\",\"alcacer do sal\",\"kanye\",\"kushima\",\"saint-tite\",\"zasechnoye\",\"menongue\",\"perelyub\",\"suluq\",\"nacala\",\"pitimbu\",\"caravelas\",\"luganville\",\"peniche\",\"dunedin\",\"ereymentau\",\"kashirskoye\",\"el real de santa maria\",\"port hedland\",\"sao filipe\",\"boyuibe\",\"ivaipora\",\"abilene\",\"seymchan\",\"hervey bay\",\"portland\",\"huai yot\",\"iqaluit\",\"emba\",\"ladario\",\"paraiso\",\"tazovskiy\",\"muravlenko\",\"cookeville\",\"kothapet\",\"south hadley\",\"marathon\",\"lenoir city\",\"menomonie\",\"ialibu\",\"skala\",\"vao\",\"paidha\",\"preobrazheniye\",\"sobolevo\",\"longyearbyen\",\"marsa matruh\",\"the valley\",\"pahrump\",\"farah\",\"umm bab\",\"pierre\",\"de-kastri\",\"rozhyshche\",\"imbituba\",\"pemangkat\",\"atar\",\"wairoa\",\"kiama\",\"kamenka\",\"bousse\",\"salinopolis\",\"evensk\",\"ortakoy\",\"diamantina\",\"kidal\",\"tikapur\",\"along\",\"whitehorse\",\"paratinga\",\"faanui\",\"morrope\",\"matara\",\"anzio\",\"osterholz-scharmbeck\",\"bontang\",\"elko\",\"beeville\",\"yulara\",\"mwinilunga\",\"prince rupert\",\"megion\",\"orsha\",\"southern pines\",\"karratha\",\"westport\",\"djambala\",\"inirida\",\"athabasca\",\"dudinka\",\"annau\",\"kutum\",\"esperance\",\"ogori\",\"haselunne\",\"fuling\",\"bjornevatn\",\"kushmurun\",\"yakeshi\",\"lagoa\",\"takoradi\",\"la seyne-sur-mer\",\"san carlos de bariloche\",\"cap malheureux\",\"praya\",\"bilma\",\"auki\",\"monrovia\",\"kargasok\",\"san ramon\",\"atambua\",\"fort saint james\",\"olafsvik\",\"guerrero negro\",\"staritsa\",\"zaysan\",\"beruwala\",\"cerreto guidi\",\"kibre mengist\",\"iberia\",\"hegang\",\"raga\",\"awjilah\",\"gotha\",\"kapoeta\",\"lupiro\",\"geraldton\",\"caibarien\",\"iracoubo\",\"tombouctou\",\"bouca\",\"yumen\",\"peace river\",\"walvis bay\",\"mandera\",\"hobyo\",\"palaikastron\",\"nepa nagar\",\"alenquer\",\"jian\",\"paamiut\",\"kavieng\",\"ixtapa\",\"ambon\",\"taoudenni\",\"karpathos\",\"jiuquan\",\"novikovo\",\"nadvoitsy\",\"dombas\",\"grafton\",\"poum\",\"labuhan\",\"khudumelapye\",\"rorvik\",\"flinders\",\"punto fijo\",\"weligama\",\"kiunga\",\"nichinan\",\"springbok\",\"vestmanna\",\"bannu\",\"nogales\",\"dingle\",\"noumea\",\"crotone\",\"vardo\",\"sarab\",\"finschhafen\",\"abonnema\",\"dauphin\",\"potosi\",\"antofagasta\",\"acari\",\"banda aceh\",\"beisfjord\",\"santa maria\",\"nacogdoches\",\"amuntai\",\"pevek\",\"erzin\",\"pangai\",\"bowmore\",\"changtu\",\"mahon\",\"karla\",\"ngunguru\",\"korla\",\"lensk\",\"tabuk\",\"dayong\",\"batemans bay\",\"san jose\",\"shelburne\",\"la asuncion\",\"goderich\",\"kumylzhenskaya\",\"port lincoln\",\"arecibo\",\"khash\",\"flin flon\",\"riviere-du-loup\",\"sebastian\",\"miguel calmon\",\"artyom\",\"byron bay\",\"anadyr\",\"diamantino\",\"nhamunda\",\"simpang\",\"sao felix do xingu\",\"phan thiet\",\"brae\",\"namibe\",\"krutinka\",\"taga\",\"montepuez\",\"obo\",\"yelnya\",\"avera\",\"tukan\",\"qaqortoq\",\"concarneau\",\"sidney\",\"vanavara\",\"nouadhibou\",\"guiglo\",\"marzuq\",\"kerman\",\"turukhansk\",\"nome\",\"fernley\",\"broken hill\",\"praia da vitoria\",\"beyla\",\"kanigiri\",\"herat\",\"san rafael\",\"puerto lumbreras\",\"kara\",\"huarmey\",\"caucaia\",\"brookhaven\",\"goldsboro\"],\"size\":{\"__ndarray__\":\"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\",\"dtype\":\"float64\",\"order\":\"little\",\"shape\":[568]}},\"selected\":{\"id\":\"1482\"},\"selection_policy\":{\"id\":\"1494\"}},\"id\":\"1481\",\"type\":\"ColumnDataSource\"},{\"attributes\":{\"fill_color\":{\"field\":\"color\",\"transform\":{\"id\":\"1480\"}},\"hatch_color\":{\"field\":\"color\",\"transform\":{\"id\":\"1480\"}},\"line_color\":{\"field\":\"color\",\"transform\":{\"id\":\"1480\"}},\"size\":{\"field\":\"size\"},\"x\":{\"field\":\"Lng\"},\"y\":{\"field\":\"Lat\"}},\"id\":\"1484\",\"type\":\"Scatter\"},{\"attributes\":{\"axis\":{\"id\":\"1430\"},\"coordinates\":null,\"dimension\":1,\"grid_line_color\":null,\"group\":null,\"ticker\":null},\"id\":\"1433\",\"type\":\"Grid\"}],\"root_ids\":[\"1405\"]},\"title\":\"Bokeh Application\",\"version\":\"2.4.3\"}};\n",
       "    var render_items = [{\"docid\":\"663391c0-5fce-4239-a540-675aaeb29eb7\",\"root_ids\":[\"1405\"],\"roots\":{\"1405\":\"617c33f6-ac2e-4d99-a282-cb689fd80825\"}}];\n",
       "    root.Bokeh.embed.embed_items_notebook(docs_json, render_items);\n",
       "    for (const render_item of render_items) {\n",
       "      for (const root_id of render_item.root_ids) {\n",
       "\tconst id_el = document.getElementById(root_id)\n",
       "\tif (id_el.children.length && (id_el.children[0].className === 'bk-root')) {\n",
       "\t  const root_el = id_el.children[0]\n",
       "\t  root_el.id = root_el.id + '-rendered'\n",
       "\t}\n",
       "      }\n",
       "    }\n",
       "  }\n",
       "  if (root.Bokeh !== undefined && root.Bokeh.Panel !== undefined) {\n",
       "    embed_document(root);\n",
       "  } else {\n",
       "    var attempts = 0;\n",
       "    var timer = setInterval(function(root) {\n",
       "      if (root.Bokeh !== undefined && root.Bokeh.Panel !== undefined) {\n",
       "        clearInterval(timer);\n",
       "        embed_document(root);\n",
       "      } else if (document.readyState == \"complete\") {\n",
       "        attempts++;\n",
       "        if (attempts > 200) {\n",
       "          clearInterval(timer);\n",
       "          console.log(\"Bokeh: ERROR: Unable to run BokehJS code because BokehJS library is missing\");\n",
       "        }\n",
       "      }\n",
       "    }, 25, root)\n",
       "  }\n",
       "})(window);</script>"
      ],
      "text/plain": [
       ":Overlay\n",
       "   .Tiles.I  :Tiles   [x,y]\n",
       "   .Points.I :Points   [Lng,Lat]   (City,Humidity)"
      ]
     },
     "execution_count": 19,
     "metadata": {
      "application/vnd.holoviews_exec.v0+json": {
       "id": "1405"
      }
     },
     "output_type": "execute_result"
    }
   ],
   "source": [
    "# %%capture --no-display\n",
    "\n",
    "# Configure the map plot\n",
    "map_plot_1 =  city_data_df.hvplot.points(\n",
    "    \"Lng\",\n",
    "    \"Lat\",\n",
    "    geo = True,\n",
    "    tiles = \"OSM\",\n",
    "    size = \"Humidity\",\n",
    "    color = \"City\",\n",
    "    frame_width = 800,\n",
    "    frame_height = 600\n",
    ")\n",
    "# Display the map\n",
    "map_plot_1\n",
    "\n"
   ]
  },
  {
   "cell_type": "markdown",
   "metadata": {},
   "source": [
    "### Step 2: Narrow down the `city_data_df` DataFrame to find your ideal weather condition"
   ]
  },
  {
   "cell_type": "code",
   "execution_count": 24,
   "metadata": {},
   "outputs": [
    {
     "name": "stdout",
     "output_type": "stream",
     "text": [
      "19\n"
     ]
    },
    {
     "data": {
      "text/html": [
       "<div>\n",
       "<style scoped>\n",
       "    .dataframe tbody tr th:only-of-type {\n",
       "        vertical-align: middle;\n",
       "    }\n",
       "\n",
       "    .dataframe tbody tr th {\n",
       "        vertical-align: top;\n",
       "    }\n",
       "\n",
       "    .dataframe thead th {\n",
       "        text-align: right;\n",
       "    }\n",
       "</style>\n",
       "<table border=\"1\" class=\"dataframe\">\n",
       "  <thead>\n",
       "    <tr style=\"text-align: right;\">\n",
       "      <th></th>\n",
       "      <th>City_ID</th>\n",
       "      <th>City</th>\n",
       "      <th>Lat</th>\n",
       "      <th>Lng</th>\n",
       "      <th>Max Temp</th>\n",
       "      <th>Humidity</th>\n",
       "      <th>Cloudiness</th>\n",
       "      <th>Wind Speed</th>\n",
       "      <th>Country</th>\n",
       "      <th>Date</th>\n",
       "    </tr>\n",
       "  </thead>\n",
       "  <tbody>\n",
       "    <tr>\n",
       "      <th>7</th>\n",
       "      <td>7</td>\n",
       "      <td>goure</td>\n",
       "      <td>13.9835</td>\n",
       "      <td>10.2704</td>\n",
       "      <td>301.38</td>\n",
       "      <td>16</td>\n",
       "      <td>67</td>\n",
       "      <td>1.29</td>\n",
       "      <td>NE</td>\n",
       "      <td>1682638786</td>\n",
       "    </tr>\n",
       "    <tr>\n",
       "      <th>83</th>\n",
       "      <td>83</td>\n",
       "      <td>hay river</td>\n",
       "      <td>60.8156</td>\n",
       "      <td>-115.7999</td>\n",
       "      <td>288.13</td>\n",
       "      <td>23</td>\n",
       "      <td>75</td>\n",
       "      <td>8.23</td>\n",
       "      <td>CA</td>\n",
       "      <td>1682638750</td>\n",
       "    </tr>\n",
       "    <tr>\n",
       "      <th>88</th>\n",
       "      <td>88</td>\n",
       "      <td>fort nelson</td>\n",
       "      <td>58.8053</td>\n",
       "      <td>-122.7002</td>\n",
       "      <td>289.79</td>\n",
       "      <td>24</td>\n",
       "      <td>75</td>\n",
       "      <td>6.69</td>\n",
       "      <td>CA</td>\n",
       "      <td>1682638774</td>\n",
       "    </tr>\n",
       "    <tr>\n",
       "      <th>89</th>\n",
       "      <td>89</td>\n",
       "      <td>revelstoke</td>\n",
       "      <td>50.9832</td>\n",
       "      <td>-118.2023</td>\n",
       "      <td>291.16</td>\n",
       "      <td>20</td>\n",
       "      <td>100</td>\n",
       "      <td>2.06</td>\n",
       "      <td>CA</td>\n",
       "      <td>1682638845</td>\n",
       "    </tr>\n",
       "    <tr>\n",
       "      <th>148</th>\n",
       "      <td>148</td>\n",
       "      <td>talbahat</td>\n",
       "      <td>25.0500</td>\n",
       "      <td>78.4333</td>\n",
       "      <td>300.14</td>\n",
       "      <td>31</td>\n",
       "      <td>100</td>\n",
       "      <td>3.11</td>\n",
       "      <td>IN</td>\n",
       "      <td>1682638887</td>\n",
       "    </tr>\n",
       "  </tbody>\n",
       "</table>\n",
       "</div>"
      ],
      "text/plain": [
       "     City_ID         City      Lat       Lng  Max Temp  Humidity  Cloudiness  \\\n",
       "7          7        goure  13.9835   10.2704    301.38        16          67   \n",
       "83        83    hay river  60.8156 -115.7999    288.13        23          75   \n",
       "88        88  fort nelson  58.8053 -122.7002    289.79        24          75   \n",
       "89        89   revelstoke  50.9832 -118.2023    291.16        20         100   \n",
       "148      148     talbahat  25.0500   78.4333    300.14        31         100   \n",
       "\n",
       "     Wind Speed Country        Date  \n",
       "7          1.29      NE  1682638786  \n",
       "83         8.23      CA  1682638750  \n",
       "88         6.69      CA  1682638774  \n",
       "89         2.06      CA  1682638845  \n",
       "148        3.11      IN  1682638887  "
      ]
     },
     "execution_count": 24,
     "metadata": {},
     "output_type": "execute_result"
    }
   ],
   "source": [
    "# Narrow down cities that fit criteria and drop any results with null values\n",
    "#not too humid\n",
    "city_data_df = city_data_df.loc[city_data_df['Humidity']<40]\n",
    "#not too cloudy\n",
    "city_data_df = city_data_df.loc[city_data_df['Cloudiness']>50]\n",
    "\n",
    "# Drop any rows with null values\n",
    "city_data_df.dropna()\n",
    "\n",
    "# Display sample data\n",
    "print(len(city_data_df))\n",
    "city_data_df.head()"
   ]
  },
  {
   "cell_type": "markdown",
   "metadata": {},
   "source": [
    "### Step 3: Create a new DataFrame called `hotel_df`."
   ]
  },
  {
   "cell_type": "code",
   "execution_count": 21,
   "metadata": {},
   "outputs": [],
   "source": [
    "# Use the Pandas copy function to create DataFrame called hotel_df to store the city, country, coordinates, and humidity\n",
    "hotel_df = \n",
    "\n",
    "# Add an empty column, \"Hotel Name,\" to the DataFrame so you can store the hotel found using the Geoapify API\n",
    "# YOUR CODE HERE\n",
    "\n",
    "# Display sample data\n",
    "# YOUR CODE HERE"
   ]
  },
  {
   "cell_type": "markdown",
   "metadata": {},
   "source": [
    "### Step 4: For each city, use the Geoapify API to find the first hotel located within 10,000 metres of your coordinates."
   ]
  },
  {
   "cell_type": "code",
   "execution_count": 22,
   "metadata": {},
   "outputs": [
    {
     "ename": "SyntaxError",
     "evalue": "invalid syntax (788381735.py, line 2)",
     "output_type": "error",
     "traceback": [
      "\u001b[1;36m  File \u001b[1;32m\"C:\\Users\\kylem\\AppData\\Local\\Temp\\ipykernel_13220\\788381735.py\"\u001b[1;36m, line \u001b[1;32m2\u001b[0m\n\u001b[1;33m    radius = # YOUR CODE HERE\u001b[0m\n\u001b[1;37m                             ^\u001b[0m\n\u001b[1;31mSyntaxError\u001b[0m\u001b[1;31m:\u001b[0m invalid syntax\n"
     ]
    }
   ],
   "source": [
    "# Set parameters to search for a hotel\n",
    "radius = # YOUR CODE HERE\n",
    "params = {\n",
    "    # YOUR CODE HERE\n",
    "}\n",
    "\n",
    "# Print a message to follow up the hotel search\n",
    "print(\"Starting hotel search\")\n",
    "\n",
    "# Iterate through the hotel_df DataFrame\n",
    "for index, row in hotel_df.iterrows():\n",
    "    # get latitude, longitude from the DataFrame\n",
    "    # YOUR CODE HERE\n",
    "    \n",
    "    # Add filter and bias parameters with the current city's latitude and longitude to the params dictionary\n",
    "    params[\"filter\"] = # YOUR CODE HERE\n",
    "    params[\"bias\"] = # YOUR CODE HERE\n",
    "    \n",
    "    # Set base URL\n",
    "    base_url = \"https://api.geoapify.com/v2/places\"\n",
    "\n",
    "\n",
    "    # Make and API request using the params dictionaty\n",
    "    name_address = # YOUR CODE HERE\n",
    "    \n",
    "    # Convert the API response to JSON format\n",
    "    name_address = # YOUR CODE HERE\n",
    "    \n",
    "    # Grab the first hotel from the results and store the name in the hotel_df DataFrame\n",
    "    try:\n",
    "        hotel_df.loc[index, \"Hotel Name\"] = name_address[\"features\"][0][\"properties\"][\"name\"]\n",
    "    except (KeyError, IndexError):\n",
    "        # If no hotel is found, set the hotel name as \"No hotel found\".\n",
    "        hotel_df.loc[index, \"Hotel Name\"] = \"No hotel found\"\n",
    "        \n",
    "    # Log the search results\n",
    "    print(f\"{hotel_df.loc[index, 'City']} - nearest hotel: {hotel_df.loc[index, 'Hotel Name']}\")\n",
    "\n",
    "# Display sample data\n",
    "hotel_df"
   ]
  },
  {
   "cell_type": "markdown",
   "metadata": {},
   "source": [
    "### Step 5: Add the hotel name and the country as additional information in the hover message for each city in the map."
   ]
  },
  {
   "cell_type": "code",
   "execution_count": null,
   "metadata": {},
   "outputs": [
    {
     "data": {},
     "metadata": {},
     "output_type": "display_data"
    },
    {
     "data": {
      "application/vnd.holoviews_exec.v0+json": "",
      "text/html": [
       "<div id='1139'>\n",
       "  <div class=\"bk-root\" id=\"7b5a7bdc-70f8-4d0f-98b5-94088c2a4292\" data-root-id=\"1139\"></div>\n",
       "</div>\n",
       "<script type=\"application/javascript\">(function(root) {\n",
       "  function embed_document(root) {\n",
       "    var docs_json = {\"c8f53044-6bb6-451a-8ec5-6a7e93149cf2\":{\"defs\":[{\"extends\":null,\"module\":null,\"name\":\"ReactiveHTML1\",\"overrides\":[],\"properties\":[]},{\"extends\":null,\"module\":null,\"name\":\"FlexBox1\",\"overrides\":[],\"properties\":[{\"default\":\"flex-start\",\"kind\":null,\"name\":\"align_content\"},{\"default\":\"flex-start\",\"kind\":null,\"name\":\"align_items\"},{\"default\":\"row\",\"kind\":null,\"name\":\"flex_direction\"},{\"default\":\"wrap\",\"kind\":null,\"name\":\"flex_wrap\"},{\"default\":\"flex-start\",\"kind\":null,\"name\":\"justify_content\"}]},{\"extends\":null,\"module\":null,\"name\":\"GridStack1\",\"overrides\":[],\"properties\":[{\"default\":\"warn\",\"kind\":null,\"name\":\"mode\"},{\"default\":null,\"kind\":null,\"name\":\"ncols\"},{\"default\":null,\"kind\":null,\"name\":\"nrows\"},{\"default\":true,\"kind\":null,\"name\":\"allow_resize\"},{\"default\":true,\"kind\":null,\"name\":\"allow_drag\"},{\"default\":[],\"kind\":null,\"name\":\"state\"}]},{\"extends\":null,\"module\":null,\"name\":\"click1\",\"overrides\":[],\"properties\":[{\"default\":\"\",\"kind\":null,\"name\":\"terminal_output\"},{\"default\":\"\",\"kind\":null,\"name\":\"debug_name\"},{\"default\":0,\"kind\":null,\"name\":\"clears\"}]},{\"extends\":null,\"module\":null,\"name\":\"NotificationAreaBase1\",\"overrides\":[],\"properties\":[{\"default\":\"bottom-right\",\"kind\":null,\"name\":\"position\"},{\"default\":0,\"kind\":null,\"name\":\"_clear\"}]},{\"extends\":null,\"module\":null,\"name\":\"NotificationArea1\",\"overrides\":[],\"properties\":[{\"default\":[],\"kind\":null,\"name\":\"notifications\"},{\"default\":\"bottom-right\",\"kind\":null,\"name\":\"position\"},{\"default\":0,\"kind\":null,\"name\":\"_clear\"},{\"default\":[{\"background\":\"#ffc107\",\"icon\":{\"className\":\"fas fa-exclamation-triangle\",\"color\":\"white\",\"tagName\":\"i\"},\"type\":\"warning\"},{\"background\":\"#007bff\",\"icon\":{\"className\":\"fas fa-info-circle\",\"color\":\"white\",\"tagName\":\"i\"},\"type\":\"info\"}],\"kind\":null,\"name\":\"types\"}]},{\"extends\":null,\"module\":null,\"name\":\"Notification\",\"overrides\":[],\"properties\":[{\"default\":null,\"kind\":null,\"name\":\"background\"},{\"default\":3000,\"kind\":null,\"name\":\"duration\"},{\"default\":null,\"kind\":null,\"name\":\"icon\"},{\"default\":\"\",\"kind\":null,\"name\":\"message\"},{\"default\":null,\"kind\":null,\"name\":\"notification_type\"},{\"default\":false,\"kind\":null,\"name\":\"_destroyed\"}]},{\"extends\":null,\"module\":null,\"name\":\"TemplateActions1\",\"overrides\":[],\"properties\":[{\"default\":0,\"kind\":null,\"name\":\"open_modal\"},{\"default\":0,\"kind\":null,\"name\":\"close_modal\"}]},{\"extends\":null,\"module\":null,\"name\":\"MaterialTemplateActions1\",\"overrides\":[],\"properties\":[{\"default\":0,\"kind\":null,\"name\":\"open_modal\"},{\"default\":0,\"kind\":null,\"name\":\"close_modal\"}]}],\"roots\":{\"references\":[{\"attributes\":{\"dimension\":\"lat\"},\"id\":\"1186\",\"type\":\"MercatorTicker\"},{\"attributes\":{},\"id\":\"1159\",\"type\":\"LinearScale\"},{\"attributes\":{\"data\":{\"City\":[\"kapaa\",\"hilo\",\"banda\",\"makakilo city\",\"kahului\",\"gat\",\"laguna\",\"tikaitnagar\",\"san quintin\",\"santa rosalia\",\"narwar\",\"port hedland\",\"roebourne\",\"saint-francois\",\"capoterra\",\"stolac\",\"guerrero negro\"],\"Country\":[\"US\",\"US\",\"IN\",\"US\",\"US\",\"IL\",\"US\",\"IN\",\"MX\",\"MX\",\"IN\",\"AU\",\"AU\",\"FR\",\"IT\",\"BA\",\"MX\"],\"Hotel_Name\":[\"Pono Kai Resort\",\"Dolphin Bay Hotel\",\"#acnindiafy21\",\"Embassy Suites by Hilton Oahu Kapolei\",\"Maui Seaside Hotel\",\"No hotel found\",\"Holiday Inn Express & Suites\",\"No hotel found\",\"Jardines Hotel\",\"Hotel del Real\",\"No hotel found\",\"The Esplanade Hotel\",\"No hotel found\",\"Chez Lily\",\"Rosa Hotel\",\"Bregava\",\"Plaza sal paraiso\"],\"Humidity\":[84,83,52,81,60,100,79,59,74,56,55,73,65,57,71,68,68],\"Lat\":{\"__ndarray__\":\"3KYbJfY6Q0FhSt/CBhlBQaHNdnPcZEZBfDISjYWQQkGBO86NHydCQb49c55wUkxBP4+IuVeyUUEx0BImVchHQaFOkweBNEtBuNiVoOshSEFNdwQQCo1GQb1Ugi/doEHBUNKFDTUNQsGSVg5GIE5WQTmauSWzG1JBppZPzgZQVEEdIC/c9sNIQQ==\",\"dtype\":\"float64\",\"order\":\"little\",\"shape\":[17]},\"Lng\":{\"__ndarray__\":\"LFRC3+jpcMFo6zu9+XZwwTp/l8GIDmFBw1If7GTIcMEdPZcLe5xwwcrdWoV2hk1BjwXCcgTIacFYODltelJhQT+to958nmjBeJT6+C7XZ8HSQ6aKRYpgQR/EaBW4LGlBiS/zac7eaEHyNLCO7IgaQSpSPWqgei5BpfyDwauAPkFCQkjy0DdowQ==\",\"dtype\":\"float64\",\"order\":\"little\",\"shape\":[17]},\"color\":[\"kapaa\",\"hilo\",\"banda\",\"makakilo city\",\"kahului\",\"gat\",\"laguna\",\"tikaitnagar\",\"san quintin\",\"santa rosalia\",\"narwar\",\"port hedland\",\"roebourne\",\"saint-francois\",\"capoterra\",\"stolac\",\"guerrero negro\"],\"size\":{\"__ndarray__\":\"hR4VuY5UIkAonAXAijgiQPNZYUQr2BxAAAAAAAAAIkDaTk+x3vseQAAAAAAAACRAcLgta8HGIUDbnltFfrkeQE4BN/pjNCFAST9oEeruHUDY4arvL6odQKMUrqiHFiFA0LphP+AfIEBcz1bMBzMeQAb7lU0w2iBAB+2vZg9+IEAH7a9mD34gQA==\",\"dtype\":\"float64\",\"order\":\"little\",\"shape\":[17]}},\"selected\":{\"id\":\"1217\"},\"selection_policy\":{\"id\":\"1229\"}},\"id\":\"1216\",\"type\":\"ColumnDataSource\"},{\"attributes\":{\"bottom_units\":\"screen\",\"coordinates\":null,\"fill_alpha\":0.5,\"fill_color\":\"lightgrey\",\"group\":null,\"left_units\":\"screen\",\"level\":\"overlay\",\"line_alpha\":1.0,\"line_color\":\"black\",\"line_dash\":[4,4],\"line_width\":2,\"right_units\":\"screen\",\"syncable\":false,\"top_units\":\"screen\"},\"id\":\"1174\",\"type\":\"BoxAnnotation\"},{\"attributes\":{\"coordinates\":null,\"group\":null,\"level\":\"glyph\",\"tile_source\":{\"id\":\"1210\"}},\"id\":\"1213\",\"type\":\"TileRenderer\"},{\"attributes\":{\"source\":{\"id\":\"1216\"}},\"id\":\"1225\",\"type\":\"CDSView\"},{\"attributes\":{\"margin\":[5,5,5,5],\"name\":\"HSpacer01686\",\"sizing_mode\":\"stretch_width\"},\"id\":\"1140\",\"type\":\"Spacer\"},{\"attributes\":{\"attribution\":\"&copy; <a href=\\\"https://www.openstreetmap.org/copyright\\\">OpenStreetMap</a> contributors\",\"url\":\"https://c.tile.openstreetmap.org/{Z}/{X}/{Y}.png\"},\"id\":\"1210\",\"type\":\"WMTSTileSource\"},{\"attributes\":{\"coordinates\":null,\"data_source\":{\"id\":\"1216\"},\"glyph\":{\"id\":\"1219\"},\"group\":null,\"hover_glyph\":{\"id\":\"1222\"},\"muted_glyph\":{\"id\":\"1223\"},\"nonselection_glyph\":{\"id\":\"1220\"},\"selection_glyph\":{\"id\":\"1221\"},\"view\":{\"id\":\"1225\"}},\"id\":\"1224\",\"type\":\"GlyphRenderer\"},{\"attributes\":{\"axis\":{\"id\":\"1161\"},\"coordinates\":null,\"grid_line_color\":null,\"group\":null,\"ticker\":null},\"id\":\"1164\",\"type\":\"Grid\"},{\"attributes\":{\"click_policy\":\"mute\",\"coordinates\":null,\"group\":null,\"items\":[{\"id\":\"1233\"}],\"location\":[0,0]},\"id\":\"1232\",\"type\":\"Legend\"},{\"attributes\":{\"axis_label\":\"x\",\"coordinates\":null,\"formatter\":{\"id\":\"1185\"},\"group\":null,\"major_label_policy\":{\"id\":\"1190\"},\"ticker\":{\"id\":\"1184\"}},\"id\":\"1161\",\"type\":\"LinearAxis\"},{\"attributes\":{\"fill_alpha\":{\"value\":0.5},\"fill_color\":{\"field\":\"color\",\"transform\":{\"id\":\"1215\"}},\"hatch_alpha\":{\"value\":0.5},\"hatch_color\":{\"field\":\"color\",\"transform\":{\"id\":\"1215\"}},\"line_alpha\":{\"value\":0.5},\"line_color\":{\"field\":\"color\",\"transform\":{\"id\":\"1215\"}},\"size\":{\"field\":\"size\"},\"x\":{\"field\":\"Lng\"},\"y\":{\"field\":\"Lat\"}},\"id\":\"1222\",\"type\":\"Scatter\"},{\"attributes\":{\"zoom_on_axis\":false},\"id\":\"1171\",\"type\":\"WheelZoomTool\"},{\"attributes\":{},\"id\":\"1217\",\"type\":\"Selection\"},{\"attributes\":{},\"id\":\"1229\",\"type\":\"UnionRenderers\"},{\"attributes\":{},\"id\":\"1170\",\"type\":\"PanTool\"},{\"attributes\":{},\"id\":\"1157\",\"type\":\"LinearScale\"},{\"attributes\":{\"coordinates\":null,\"group\":null,\"text_color\":\"black\",\"text_font_size\":\"12pt\"},\"id\":\"1153\",\"type\":\"Title\"},{\"attributes\":{\"code\":\"\\n        var projections = Bokeh.require(\\\"core/util/projections\\\");\\n        var x = special_vars.data_x\\n        var y = special_vars.data_y\\n        if (projections.wgs84_mercator.invert == null) {\\n          var coords = projections.wgs84_mercator.inverse([x, y])\\n        } else {\\n          var coords = projections.wgs84_mercator.invert(x, y)\\n        }\\n        return \\\"\\\" + (coords[1]).toFixed(4)\\n    \"},\"id\":\"1235\",\"type\":\"CustomJSHover\"},{\"attributes\":{\"fill_alpha\":{\"value\":0.5},\"fill_color\":{\"field\":\"color\",\"transform\":{\"id\":\"1215\"}},\"hatch_alpha\":{\"value\":0.5},\"hatch_color\":{\"field\":\"color\",\"transform\":{\"id\":\"1215\"}},\"line_alpha\":{\"value\":0.5},\"line_color\":{\"field\":\"color\",\"transform\":{\"id\":\"1215\"}},\"size\":{\"field\":\"size\"},\"x\":{\"field\":\"Lng\"},\"y\":{\"field\":\"Lat\"}},\"id\":\"1219\",\"type\":\"Scatter\"},{\"attributes\":{\"children\":[{\"id\":\"1140\"},{\"id\":\"1152\"},{\"id\":\"1242\"}],\"margin\":[0,0,0,0],\"name\":\"Row01682\",\"tags\":[\"embedded\"]},\"id\":\"1139\",\"type\":\"Row\"},{\"attributes\":{\"callback\":null,\"formatters\":{\"$x\":{\"id\":\"1234\"},\"$y\":{\"id\":\"1235\"}},\"renderers\":[{\"id\":\"1224\"}],\"tags\":[\"hv_created\"],\"tooltips\":[[\"Lng\",\"$x{custom}\"],[\"Lat\",\"$y{custom}\"],[\"City\",\"@{City}\"],[\"Humidity\",\"@{Humidity}\"],[\"Hotel Name\",\"@{Hotel_Name}\"],[\"Country\",\"@{Country}\"]]},\"id\":\"1149\",\"type\":\"HoverTool\"},{\"attributes\":{},\"id\":\"1173\",\"type\":\"ResetTool\"},{\"attributes\":{\"fill_alpha\":{\"value\":0.2},\"fill_color\":{\"field\":\"color\",\"transform\":{\"id\":\"1215\"}},\"hatch_alpha\":{\"value\":0.2},\"hatch_color\":{\"field\":\"color\",\"transform\":{\"id\":\"1215\"}},\"line_alpha\":{\"value\":0.2},\"line_color\":{\"field\":\"color\",\"transform\":{\"id\":\"1215\"}},\"size\":{\"field\":\"size\"},\"x\":{\"field\":\"Lng\"},\"y\":{\"field\":\"Lat\"}},\"id\":\"1223\",\"type\":\"Scatter\"},{\"attributes\":{\"end\":14366716.452919383,\"min_interval\":5,\"reset_end\":14366716.452919383,\"reset_start\":-10885605.506340533,\"start\":-10885605.506340533,\"tags\":[[[\"Lat\",\"Lat\",null]]]},\"id\":\"1146\",\"type\":\"Range1d\"},{\"attributes\":{},\"id\":\"1197\",\"type\":\"AllLabels\"},{\"attributes\":{\"axis_label\":\"y\",\"coordinates\":null,\"formatter\":{\"id\":\"1187\"},\"group\":null,\"major_label_policy\":{\"id\":\"1197\"},\"ticker\":{\"id\":\"1186\"}},\"id\":\"1165\",\"type\":\"LinearAxis\"},{\"attributes\":{\"end\":15408362.72915458,\"min_interval\":5,\"reset_end\":15408362.72915458,\"reset_start\":-19944888.0138093,\"start\":-19944888.0138093,\"tags\":[[[\"Lng\",\"Lng\",null]]]},\"id\":\"1145\",\"type\":\"Range1d\"},{\"attributes\":{\"below\":[{\"id\":\"1161\"}],\"center\":[{\"id\":\"1164\"},{\"id\":\"1168\"}],\"frame_height\":500,\"frame_width\":700,\"height\":null,\"left\":[{\"id\":\"1165\"}],\"margin\":[5,5,5,5],\"match_aspect\":true,\"min_border_bottom\":10,\"min_border_left\":10,\"min_border_right\":10,\"min_border_top\":10,\"renderers\":[{\"id\":\"1213\"},{\"id\":\"1224\"}],\"right\":[{\"id\":\"1232\"}],\"sizing_mode\":\"fixed\",\"title\":{\"id\":\"1153\"},\"toolbar\":{\"id\":\"1175\"},\"width\":null,\"x_range\":{\"id\":\"1145\"},\"x_scale\":{\"id\":\"1157\"},\"y_range\":{\"id\":\"1146\"},\"y_scale\":{\"id\":\"1159\"}},\"id\":\"1152\",\"subtype\":\"Figure\",\"type\":\"Plot\"},{\"attributes\":{\"axis\":{\"id\":\"1165\"},\"coordinates\":null,\"dimension\":1,\"grid_line_color\":null,\"group\":null,\"ticker\":null},\"id\":\"1168\",\"type\":\"Grid\"},{\"attributes\":{\"label\":{\"field\":\"color\"},\"renderers\":[{\"id\":\"1224\"}]},\"id\":\"1233\",\"type\":\"LegendItem\"},{\"attributes\":{},\"id\":\"1190\",\"type\":\"AllLabels\"},{\"attributes\":{\"fill_alpha\":{\"value\":0.5},\"fill_color\":{\"field\":\"color\",\"transform\":{\"id\":\"1215\"}},\"hatch_alpha\":{\"value\":0.1},\"hatch_color\":{\"field\":\"color\",\"transform\":{\"id\":\"1215\"}},\"line_alpha\":{\"value\":0.5},\"line_color\":{\"field\":\"color\",\"transform\":{\"id\":\"1215\"}},\"size\":{\"field\":\"size\"},\"x\":{\"field\":\"Lng\"},\"y\":{\"field\":\"Lat\"}},\"id\":\"1220\",\"type\":\"Scatter\"},{\"attributes\":{\"dimension\":\"lon\"},\"id\":\"1185\",\"type\":\"MercatorTickFormatter\"},{\"attributes\":{\"tools\":[{\"id\":\"1149\"},{\"id\":\"1169\"},{\"id\":\"1170\"},{\"id\":\"1171\"},{\"id\":\"1172\"},{\"id\":\"1173\"}]},\"id\":\"1175\",\"type\":\"Toolbar\"},{\"attributes\":{\"dimension\":\"lat\"},\"id\":\"1187\",\"type\":\"MercatorTickFormatter\"},{\"attributes\":{},\"id\":\"1169\",\"type\":\"SaveTool\"},{\"attributes\":{\"factors\":[\"kapaa\",\"hilo\",\"banda\",\"makakilo city\",\"kahului\",\"gat\",\"laguna\",\"tikaitnagar\",\"san quintin\",\"santa rosalia\",\"narwar\",\"port hedland\",\"roebourne\",\"saint-francois\",\"capoterra\",\"stolac\",\"guerrero negro\"],\"palette\":[\"#1f77b3\",\"#ff7e0e\",\"#2ba02b\",\"#d62628\",\"#9367bc\",\"#8c564b\",\"#e277c1\",\"#7e7e7e\",\"#bcbc21\",\"#16bdcf\",\"#3a0182\",\"#004201\",\"#0fffa8\",\"#5d003f\",\"#bcbcff\",\"#d8afa1\",\"#b80080\"]},\"id\":\"1215\",\"type\":\"CategoricalColorMapper\"},{\"attributes\":{\"code\":\"\\n        var projections = Bokeh.require(\\\"core/util/projections\\\");\\n        var x = special_vars.data_x\\n        var y = special_vars.data_y\\n        if (projections.wgs84_mercator.invert == null) {\\n          var coords = projections.wgs84_mercator.inverse([x, y])\\n        } else {\\n          var coords = projections.wgs84_mercator.invert(x, y)\\n        }\\n        return \\\"\\\" + (coords[0]).toFixed(4)\\n    \"},\"id\":\"1234\",\"type\":\"CustomJSHover\"},{\"attributes\":{\"match_aspect\":true,\"overlay\":{\"id\":\"1174\"}},\"id\":\"1172\",\"type\":\"BoxZoomTool\"},{\"attributes\":{\"margin\":[5,5,5,5],\"name\":\"HSpacer01687\",\"sizing_mode\":\"stretch_width\"},\"id\":\"1242\",\"type\":\"Spacer\"},{\"attributes\":{\"fill_alpha\":{\"value\":0.5},\"fill_color\":{\"field\":\"color\",\"transform\":{\"id\":\"1215\"}},\"hatch_alpha\":{\"value\":0.5},\"hatch_color\":{\"field\":\"color\",\"transform\":{\"id\":\"1215\"}},\"line_alpha\":{\"value\":0.5},\"line_color\":{\"field\":\"color\",\"transform\":{\"id\":\"1215\"}},\"size\":{\"field\":\"size\"},\"x\":{\"field\":\"Lng\"},\"y\":{\"field\":\"Lat\"}},\"id\":\"1221\",\"type\":\"Scatter\"},{\"attributes\":{\"dimension\":\"lon\"},\"id\":\"1184\",\"type\":\"MercatorTicker\"}],\"root_ids\":[\"1139\"]},\"title\":\"Bokeh Application\",\"version\":\"2.4.3\"}};\n",
       "    var render_items = [{\"docid\":\"c8f53044-6bb6-451a-8ec5-6a7e93149cf2\",\"root_ids\":[\"1139\"],\"roots\":{\"1139\":\"7b5a7bdc-70f8-4d0f-98b5-94088c2a4292\"}}];\n",
       "    root.Bokeh.embed.embed_items_notebook(docs_json, render_items);\n",
       "    for (const render_item of render_items) {\n",
       "      for (const root_id of render_item.root_ids) {\n",
       "\tconst id_el = document.getElementById(root_id)\n",
       "\tif (id_el.children.length && (id_el.children[0].className === 'bk-root')) {\n",
       "\t  const root_el = id_el.children[0]\n",
       "\t  root_el.id = root_el.id + '-rendered'\n",
       "\t}\n",
       "      }\n",
       "    }\n",
       "  }\n",
       "  if (root.Bokeh !== undefined && root.Bokeh.Panel !== undefined) {\n",
       "    embed_document(root);\n",
       "  } else {\n",
       "    var attempts = 0;\n",
       "    var timer = setInterval(function(root) {\n",
       "      if (root.Bokeh !== undefined && root.Bokeh.Panel !== undefined) {\n",
       "        clearInterval(timer);\n",
       "        embed_document(root);\n",
       "      } else if (document.readyState == \"complete\") {\n",
       "        attempts++;\n",
       "        if (attempts > 200) {\n",
       "          clearInterval(timer);\n",
       "          console.log(\"Bokeh: ERROR: Unable to run BokehJS code because BokehJS library is missing\");\n",
       "        }\n",
       "      }\n",
       "    }, 25, root)\n",
       "  }\n",
       "})(window);</script>"
      ],
      "text/plain": [
       ":Overlay\n",
       "   .Tiles.I  :Tiles   [x,y]\n",
       "   .Points.I :Points   [Lng,Lat]   (City,Humidity,Hotel Name,Country)"
      ]
     },
     "execution_count": 7,
     "metadata": {
      "application/vnd.holoviews_exec.v0+json": {
       "id": "1139"
      }
     },
     "output_type": "execute_result"
    }
   ],
   "source": [
    "%%capture --no-display\n",
    "\n",
    "# Configure the map plot\n",
    "# YOUR CODE HERE\n",
    "\n",
    "# Display the map\n",
    "# YOUR CODE HERE"
   ]
  },
  {
   "cell_type": "code",
   "execution_count": null,
   "metadata": {},
   "outputs": [],
   "source": []
  }
 ],
 "metadata": {
  "kernelspec": {
   "display_name": "Python 3 (ipykernel)",
   "language": "python",
   "name": "python3"
  },
  "language_info": {
   "codemirror_mode": {
    "name": "ipython",
    "version": 3
   },
   "file_extension": ".py",
   "mimetype": "text/x-python",
   "name": "python",
   "nbconvert_exporter": "python",
   "pygments_lexer": "ipython3",
   "version": "3.7.7"
  },
  "latex_envs": {
   "LaTeX_envs_menu_present": true,
   "autoclose": false,
   "autocomplete": true,
   "bibliofile": "biblio.bib",
   "cite_by": "apalike",
   "current_citInitial": 1,
   "eqLabelWithNumbers": true,
   "eqNumInitial": 1,
   "hotkeys": {
    "equation": "Ctrl-E",
    "itemize": "Ctrl-I"
   },
   "labels_anchors": false,
   "latex_user_defs": false,
   "report_style_numbering": false,
   "user_envs_cfg": false
  }
 },
 "nbformat": 4,
 "nbformat_minor": 4
}
